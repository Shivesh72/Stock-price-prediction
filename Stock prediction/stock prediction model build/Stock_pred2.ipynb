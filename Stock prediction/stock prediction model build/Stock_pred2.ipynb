{
 "cells": [
  {
   "cell_type": "code",
   "execution_count": 1,
   "metadata": {
    "colab": {
     "base_uri": "https://localhost:8080/"
    },
    "id": "86l-EtLpskYu",
    "outputId": "c16e200a-a478-4f0e-91fe-0c0db31dcabf"
   },
   "outputs": [
    {
     "name": "stdout",
     "output_type": "stream",
     "text": [
      "Collecting yfinance\n",
      "  Downloading yfinance-0.1.63.tar.gz (26 kB)\n",
      "Requirement already satisfied: pandas>=0.24 in /usr/local/lib/python3.7/dist-packages (from yfinance) (1.1.5)\n",
      "Requirement already satisfied: numpy>=1.15 in /usr/local/lib/python3.7/dist-packages (from yfinance) (1.19.5)\n",
      "Requirement already satisfied: requests>=2.20 in /usr/local/lib/python3.7/dist-packages (from yfinance) (2.23.0)\n",
      "Requirement already satisfied: multitasking>=0.0.7 in /usr/local/lib/python3.7/dist-packages (from yfinance) (0.0.9)\n",
      "Collecting lxml>=4.5.1\n",
      "  Downloading lxml-4.6.3-cp37-cp37m-manylinux2014_x86_64.whl (6.3 MB)\n",
      "\u001b[K     |████████████████████████████████| 6.3 MB 7.5 MB/s \n",
      "\u001b[?25hRequirement already satisfied: pytz>=2017.2 in /usr/local/lib/python3.7/dist-packages (from pandas>=0.24->yfinance) (2018.9)\n",
      "Requirement already satisfied: python-dateutil>=2.7.3 in /usr/local/lib/python3.7/dist-packages (from pandas>=0.24->yfinance) (2.8.2)\n",
      "Requirement already satisfied: six>=1.5 in /usr/local/lib/python3.7/dist-packages (from python-dateutil>=2.7.3->pandas>=0.24->yfinance) (1.15.0)\n",
      "Requirement already satisfied: urllib3!=1.25.0,!=1.25.1,<1.26,>=1.21.1 in /usr/local/lib/python3.7/dist-packages (from requests>=2.20->yfinance) (1.24.3)\n",
      "Requirement already satisfied: certifi>=2017.4.17 in /usr/local/lib/python3.7/dist-packages (from requests>=2.20->yfinance) (2021.5.30)\n",
      "Requirement already satisfied: chardet<4,>=3.0.2 in /usr/local/lib/python3.7/dist-packages (from requests>=2.20->yfinance) (3.0.4)\n",
      "Requirement already satisfied: idna<3,>=2.5 in /usr/local/lib/python3.7/dist-packages (from requests>=2.20->yfinance) (2.10)\n",
      "Building wheels for collected packages: yfinance\n",
      "  Building wheel for yfinance (setup.py) ... \u001b[?25l\u001b[?25hdone\n",
      "  Created wheel for yfinance: filename=yfinance-0.1.63-py2.py3-none-any.whl size=23918 sha256=09c3da92867065fba5cb85c6965875d0619792e964baa11a221d97a8ed797ab5\n",
      "  Stored in directory: /root/.cache/pip/wheels/fe/87/8b/7ec24486e001d3926537f5f7801f57a74d181be25b11157983\n",
      "Successfully built yfinance\n",
      "Installing collected packages: lxml, yfinance\n",
      "  Attempting uninstall: lxml\n",
      "    Found existing installation: lxml 4.2.6\n",
      "    Uninstalling lxml-4.2.6:\n",
      "      Successfully uninstalled lxml-4.2.6\n",
      "Successfully installed lxml-4.6.3 yfinance-0.1.63\n"
     ]
    }
   ],
   "source": [
    "# pip install yfinance"
   ]
  },
  {
   "cell_type": "code",
   "execution_count": 7,
   "metadata": {
    "id": "IFsL1nZerZiE"
   },
   "outputs": [
    {
     "ename": "AttributeError",
     "evalue": "module 'tensorflow.python.training.experimental.mixed_precision' has no attribute '_register_wrapper_optimizer_cls'",
     "output_type": "error",
     "traceback": [
      "\u001b[1;31m---------------------------------------------------------------------------\u001b[0m",
      "\u001b[1;31mAttributeError\u001b[0m                            Traceback (most recent call last)",
      "\u001b[1;32m<ipython-input-7-65018ce212c6>\u001b[0m in \u001b[0;36m<module>\u001b[1;34m\u001b[0m\n\u001b[0;32m      8\u001b[0m \u001b[1;32mimport\u001b[0m \u001b[0mtensorflow\u001b[0m \u001b[1;32mas\u001b[0m \u001b[0mtf\u001b[0m\u001b[1;33m\u001b[0m\u001b[1;33m\u001b[0m\u001b[0m\n\u001b[0;32m      9\u001b[0m \u001b[1;32mfrom\u001b[0m \u001b[0mtensorflow\u001b[0m \u001b[1;32mimport\u001b[0m \u001b[0mkeras\u001b[0m\u001b[1;33m\u001b[0m\u001b[1;33m\u001b[0m\u001b[0m\n\u001b[1;32m---> 10\u001b[1;33m \u001b[1;32mfrom\u001b[0m \u001b[0mtensorflow\u001b[0m\u001b[1;33m.\u001b[0m\u001b[0mkeras\u001b[0m \u001b[1;32mimport\u001b[0m \u001b[0mlayers\u001b[0m\u001b[1;33m,\u001b[0m\u001b[0mmodels\u001b[0m\u001b[1;33m\u001b[0m\u001b[1;33m\u001b[0m\u001b[0m\n\u001b[0m\u001b[0;32m     11\u001b[0m \u001b[1;32mimport\u001b[0m \u001b[0mmatplotlib\u001b[0m\u001b[1;33m.\u001b[0m\u001b[0mpyplot\u001b[0m \u001b[1;32mas\u001b[0m \u001b[0mplt\u001b[0m\u001b[1;33m\u001b[0m\u001b[1;33m\u001b[0m\u001b[0m\n\u001b[0;32m     12\u001b[0m \u001b[1;32mfrom\u001b[0m \u001b[0mkeras\u001b[0m\u001b[1;33m.\u001b[0m\u001b[0mlayers\u001b[0m \u001b[1;32mimport\u001b[0m \u001b[0mDense\u001b[0m\u001b[1;33m,\u001b[0m\u001b[0mLSTM\u001b[0m\u001b[1;33m\u001b[0m\u001b[1;33m\u001b[0m\u001b[0m\n",
      "\u001b[1;32m~\\AppData\\Roaming\\Python\\Python39\\site-packages\\keras\\api\\_v2\\keras\\__init__.py\u001b[0m in \u001b[0;36m<module>\u001b[1;34m\u001b[0m\n\u001b[0;32m      8\u001b[0m \u001b[1;32mimport\u001b[0m \u001b[0msys\u001b[0m \u001b[1;32mas\u001b[0m \u001b[0m_sys\u001b[0m\u001b[1;33m\u001b[0m\u001b[1;33m\u001b[0m\u001b[0m\n\u001b[0;32m      9\u001b[0m \u001b[1;33m\u001b[0m\u001b[0m\n\u001b[1;32m---> 10\u001b[1;33m \u001b[1;32mfrom\u001b[0m \u001b[0mkeras\u001b[0m \u001b[1;32mimport\u001b[0m \u001b[0m__version__\u001b[0m\u001b[1;33m\u001b[0m\u001b[1;33m\u001b[0m\u001b[0m\n\u001b[0m\u001b[0;32m     11\u001b[0m \u001b[1;32mfrom\u001b[0m \u001b[0mkeras\u001b[0m\u001b[1;33m.\u001b[0m\u001b[0mapi\u001b[0m\u001b[1;33m.\u001b[0m\u001b[0m_v2\u001b[0m\u001b[1;33m.\u001b[0m\u001b[0mkeras\u001b[0m \u001b[1;32mimport\u001b[0m \u001b[0mactivations\u001b[0m\u001b[1;33m\u001b[0m\u001b[1;33m\u001b[0m\u001b[0m\n\u001b[0;32m     12\u001b[0m \u001b[1;32mfrom\u001b[0m \u001b[0mkeras\u001b[0m\u001b[1;33m.\u001b[0m\u001b[0mapi\u001b[0m\u001b[1;33m.\u001b[0m\u001b[0m_v2\u001b[0m\u001b[1;33m.\u001b[0m\u001b[0mkeras\u001b[0m \u001b[1;32mimport\u001b[0m \u001b[0mapplications\u001b[0m\u001b[1;33m\u001b[0m\u001b[1;33m\u001b[0m\u001b[0m\n",
      "\u001b[1;32m~\\AppData\\Roaming\\Python\\Python39\\site-packages\\keras\\__init__.py\u001b[0m in \u001b[0;36m<module>\u001b[1;34m\u001b[0m\n\u001b[0;32m     23\u001b[0m \u001b[1;33m\u001b[0m\u001b[0m\n\u001b[0;32m     24\u001b[0m \u001b[1;31m# See b/110718070#comment18 for more details about this import.\u001b[0m\u001b[1;33m\u001b[0m\u001b[1;33m\u001b[0m\u001b[1;33m\u001b[0m\u001b[0m\n\u001b[1;32m---> 25\u001b[1;33m \u001b[1;32mfrom\u001b[0m \u001b[0mkeras\u001b[0m \u001b[1;32mimport\u001b[0m \u001b[0mmodels\u001b[0m\u001b[1;33m\u001b[0m\u001b[1;33m\u001b[0m\u001b[0m\n\u001b[0m\u001b[0;32m     26\u001b[0m \u001b[1;33m\u001b[0m\u001b[0m\n\u001b[0;32m     27\u001b[0m \u001b[1;32mfrom\u001b[0m \u001b[0mkeras\u001b[0m\u001b[1;33m.\u001b[0m\u001b[0mengine\u001b[0m\u001b[1;33m.\u001b[0m\u001b[0minput_layer\u001b[0m \u001b[1;32mimport\u001b[0m \u001b[0mInput\u001b[0m\u001b[1;33m\u001b[0m\u001b[1;33m\u001b[0m\u001b[0m\n",
      "\u001b[1;32m~\\AppData\\Roaming\\Python\\Python39\\site-packages\\keras\\models.py\u001b[0m in \u001b[0;36m<module>\u001b[1;34m\u001b[0m\n\u001b[0;32m     18\u001b[0m \u001b[1;32mimport\u001b[0m \u001b[0mtensorflow\u001b[0m\u001b[1;33m.\u001b[0m\u001b[0mcompat\u001b[0m\u001b[1;33m.\u001b[0m\u001b[0mv2\u001b[0m \u001b[1;32mas\u001b[0m \u001b[0mtf\u001b[0m\u001b[1;33m\u001b[0m\u001b[1;33m\u001b[0m\u001b[0m\n\u001b[0;32m     19\u001b[0m \u001b[1;32mfrom\u001b[0m \u001b[0mkeras\u001b[0m \u001b[1;32mimport\u001b[0m \u001b[0mbackend\u001b[0m\u001b[1;33m\u001b[0m\u001b[1;33m\u001b[0m\u001b[0m\n\u001b[1;32m---> 20\u001b[1;33m \u001b[1;32mfrom\u001b[0m \u001b[0mkeras\u001b[0m \u001b[1;32mimport\u001b[0m \u001b[0mmetrics\u001b[0m \u001b[1;32mas\u001b[0m \u001b[0mmetrics_module\u001b[0m\u001b[1;33m\u001b[0m\u001b[1;33m\u001b[0m\u001b[0m\n\u001b[0m\u001b[0;32m     21\u001b[0m \u001b[1;32mfrom\u001b[0m \u001b[0mkeras\u001b[0m \u001b[1;32mimport\u001b[0m \u001b[0moptimizer_v1\u001b[0m\u001b[1;33m\u001b[0m\u001b[1;33m\u001b[0m\u001b[0m\n\u001b[0;32m     22\u001b[0m \u001b[1;32mfrom\u001b[0m \u001b[0mkeras\u001b[0m\u001b[1;33m.\u001b[0m\u001b[0mengine\u001b[0m \u001b[1;32mimport\u001b[0m \u001b[0mfunctional\u001b[0m\u001b[1;33m\u001b[0m\u001b[1;33m\u001b[0m\u001b[0m\n",
      "\u001b[1;32m~\\AppData\\Roaming\\Python\\Python39\\site-packages\\keras\\metrics.py\u001b[0m in \u001b[0;36m<module>\u001b[1;34m\u001b[0m\n\u001b[0;32m     25\u001b[0m \u001b[1;33m\u001b[0m\u001b[0m\n\u001b[0;32m     26\u001b[0m \u001b[1;32mimport\u001b[0m \u001b[0mnumpy\u001b[0m \u001b[1;32mas\u001b[0m \u001b[0mnp\u001b[0m\u001b[1;33m\u001b[0m\u001b[1;33m\u001b[0m\u001b[0m\n\u001b[1;32m---> 27\u001b[1;33m \u001b[1;32mfrom\u001b[0m \u001b[0mkeras\u001b[0m \u001b[1;32mimport\u001b[0m \u001b[0mactivations\u001b[0m\u001b[1;33m\u001b[0m\u001b[1;33m\u001b[0m\u001b[0m\n\u001b[0m\u001b[0;32m     28\u001b[0m \u001b[1;32mfrom\u001b[0m \u001b[0mkeras\u001b[0m \u001b[1;32mimport\u001b[0m \u001b[0mbackend\u001b[0m\u001b[1;33m\u001b[0m\u001b[1;33m\u001b[0m\u001b[0m\n\u001b[0;32m     29\u001b[0m \u001b[1;32mfrom\u001b[0m \u001b[0mkeras\u001b[0m\u001b[1;33m.\u001b[0m\u001b[0mengine\u001b[0m \u001b[1;32mimport\u001b[0m \u001b[0mbase_layer\u001b[0m\u001b[1;33m\u001b[0m\u001b[1;33m\u001b[0m\u001b[0m\n",
      "\u001b[1;32m~\\AppData\\Roaming\\Python\\Python39\\site-packages\\keras\\activations.py\u001b[0m in \u001b[0;36m<module>\u001b[1;34m\u001b[0m\n\u001b[0;32m     18\u001b[0m \u001b[1;33m\u001b[0m\u001b[0m\n\u001b[0;32m     19\u001b[0m \u001b[1;32mfrom\u001b[0m \u001b[0mkeras\u001b[0m \u001b[1;32mimport\u001b[0m \u001b[0mbackend\u001b[0m\u001b[1;33m\u001b[0m\u001b[1;33m\u001b[0m\u001b[0m\n\u001b[1;32m---> 20\u001b[1;33m \u001b[1;32mfrom\u001b[0m \u001b[0mkeras\u001b[0m\u001b[1;33m.\u001b[0m\u001b[0mlayers\u001b[0m \u001b[1;32mimport\u001b[0m \u001b[0madvanced_activations\u001b[0m\u001b[1;33m\u001b[0m\u001b[1;33m\u001b[0m\u001b[0m\n\u001b[0m\u001b[0;32m     21\u001b[0m \u001b[1;32mfrom\u001b[0m \u001b[0mkeras\u001b[0m\u001b[1;33m.\u001b[0m\u001b[0mutils\u001b[0m\u001b[1;33m.\u001b[0m\u001b[0mgeneric_utils\u001b[0m \u001b[1;32mimport\u001b[0m \u001b[0mdeserialize_keras_object\u001b[0m\u001b[1;33m\u001b[0m\u001b[1;33m\u001b[0m\u001b[0m\n\u001b[0;32m     22\u001b[0m \u001b[1;32mfrom\u001b[0m \u001b[0mkeras\u001b[0m\u001b[1;33m.\u001b[0m\u001b[0mutils\u001b[0m\u001b[1;33m.\u001b[0m\u001b[0mgeneric_utils\u001b[0m \u001b[1;32mimport\u001b[0m \u001b[0mserialize_keras_object\u001b[0m\u001b[1;33m\u001b[0m\u001b[1;33m\u001b[0m\u001b[0m\n",
      "\u001b[1;32m~\\AppData\\Roaming\\Python\\Python39\\site-packages\\keras\\layers\\__init__.py\u001b[0m in \u001b[0;36m<module>\u001b[1;34m\u001b[0m\n\u001b[0;32m     22\u001b[0m \u001b[1;31m# pylint: disable=g-bad-import-order\u001b[0m\u001b[1;33m\u001b[0m\u001b[1;33m\u001b[0m\u001b[1;33m\u001b[0m\u001b[0m\n\u001b[0;32m     23\u001b[0m \u001b[1;31m# pylint: disable=g-import-not-at-top\u001b[0m\u001b[1;33m\u001b[0m\u001b[1;33m\u001b[0m\u001b[1;33m\u001b[0m\u001b[0m\n\u001b[1;32m---> 24\u001b[1;33m \u001b[1;32mfrom\u001b[0m \u001b[0mkeras\u001b[0m\u001b[1;33m.\u001b[0m\u001b[0mengine\u001b[0m\u001b[1;33m.\u001b[0m\u001b[0minput_layer\u001b[0m \u001b[1;32mimport\u001b[0m \u001b[0mInput\u001b[0m\u001b[1;33m\u001b[0m\u001b[1;33m\u001b[0m\u001b[0m\n\u001b[0m\u001b[0;32m     25\u001b[0m \u001b[1;32mfrom\u001b[0m \u001b[0mkeras\u001b[0m\u001b[1;33m.\u001b[0m\u001b[0mengine\u001b[0m\u001b[1;33m.\u001b[0m\u001b[0minput_layer\u001b[0m \u001b[1;32mimport\u001b[0m \u001b[0mInputLayer\u001b[0m\u001b[1;33m\u001b[0m\u001b[1;33m\u001b[0m\u001b[0m\n\u001b[0;32m     26\u001b[0m \u001b[1;32mfrom\u001b[0m \u001b[0mkeras\u001b[0m\u001b[1;33m.\u001b[0m\u001b[0mengine\u001b[0m\u001b[1;33m.\u001b[0m\u001b[0minput_spec\u001b[0m \u001b[1;32mimport\u001b[0m \u001b[0mInputSpec\u001b[0m\u001b[1;33m\u001b[0m\u001b[1;33m\u001b[0m\u001b[0m\n",
      "\u001b[1;32m~\\AppData\\Roaming\\Python\\Python39\\site-packages\\keras\\engine\\input_layer.py\u001b[0m in \u001b[0;36m<module>\u001b[1;34m\u001b[0m\n\u001b[0;32m     19\u001b[0m \u001b[1;32mfrom\u001b[0m \u001b[0mkeras\u001b[0m \u001b[1;32mimport\u001b[0m \u001b[0mbackend\u001b[0m\u001b[1;33m\u001b[0m\u001b[1;33m\u001b[0m\u001b[0m\n\u001b[0;32m     20\u001b[0m \u001b[1;32mfrom\u001b[0m \u001b[0mkeras\u001b[0m\u001b[1;33m.\u001b[0m\u001b[0mdistribute\u001b[0m \u001b[1;32mimport\u001b[0m \u001b[0mdistributed_training_utils\u001b[0m\u001b[1;33m\u001b[0m\u001b[1;33m\u001b[0m\u001b[0m\n\u001b[1;32m---> 21\u001b[1;33m \u001b[1;32mfrom\u001b[0m \u001b[0mkeras\u001b[0m\u001b[1;33m.\u001b[0m\u001b[0mengine\u001b[0m \u001b[1;32mimport\u001b[0m \u001b[0mbase_layer\u001b[0m\u001b[1;33m\u001b[0m\u001b[1;33m\u001b[0m\u001b[0m\n\u001b[0m\u001b[0;32m     22\u001b[0m \u001b[1;32mfrom\u001b[0m \u001b[0mkeras\u001b[0m\u001b[1;33m.\u001b[0m\u001b[0mengine\u001b[0m \u001b[1;32mimport\u001b[0m \u001b[0mkeras_tensor\u001b[0m\u001b[1;33m\u001b[0m\u001b[1;33m\u001b[0m\u001b[0m\n\u001b[0;32m     23\u001b[0m \u001b[1;32mfrom\u001b[0m \u001b[0mkeras\u001b[0m\u001b[1;33m.\u001b[0m\u001b[0mengine\u001b[0m \u001b[1;32mimport\u001b[0m \u001b[0mnode\u001b[0m \u001b[1;32mas\u001b[0m \u001b[0mnode_module\u001b[0m\u001b[1;33m\u001b[0m\u001b[1;33m\u001b[0m\u001b[0m\n",
      "\u001b[1;32m~\\AppData\\Roaming\\Python\\Python39\\site-packages\\keras\\engine\\base_layer.py\u001b[0m in \u001b[0;36m<module>\u001b[1;34m\u001b[0m\n\u001b[0;32m     39\u001b[0m \u001b[1;32mfrom\u001b[0m \u001b[0mkeras\u001b[0m\u001b[1;33m.\u001b[0m\u001b[0mengine\u001b[0m \u001b[1;32mimport\u001b[0m \u001b[0mnode\u001b[0m \u001b[1;32mas\u001b[0m \u001b[0mnode_module\u001b[0m\u001b[1;33m\u001b[0m\u001b[1;33m\u001b[0m\u001b[0m\n\u001b[0;32m     40\u001b[0m \u001b[1;32mfrom\u001b[0m \u001b[0mkeras\u001b[0m\u001b[1;33m.\u001b[0m\u001b[0mmixed_precision\u001b[0m \u001b[1;32mimport\u001b[0m \u001b[0mautocast_variable\u001b[0m\u001b[1;33m\u001b[0m\u001b[1;33m\u001b[0m\u001b[0m\n\u001b[1;32m---> 41\u001b[1;33m \u001b[1;32mfrom\u001b[0m \u001b[0mkeras\u001b[0m\u001b[1;33m.\u001b[0m\u001b[0mmixed_precision\u001b[0m \u001b[1;32mimport\u001b[0m \u001b[0mloss_scale_optimizer\u001b[0m\u001b[1;33m\u001b[0m\u001b[1;33m\u001b[0m\u001b[0m\n\u001b[0m\u001b[0;32m     42\u001b[0m \u001b[1;32mfrom\u001b[0m \u001b[0mkeras\u001b[0m\u001b[1;33m.\u001b[0m\u001b[0mmixed_precision\u001b[0m \u001b[1;32mimport\u001b[0m \u001b[0mpolicy\u001b[0m\u001b[1;33m\u001b[0m\u001b[1;33m\u001b[0m\u001b[0m\n\u001b[0;32m     43\u001b[0m \u001b[1;32mfrom\u001b[0m \u001b[0mkeras\u001b[0m\u001b[1;33m.\u001b[0m\u001b[0msaving\u001b[0m\u001b[1;33m.\u001b[0m\u001b[0msaved_model\u001b[0m \u001b[1;32mimport\u001b[0m \u001b[0mlayer_serialization\u001b[0m\u001b[1;33m\u001b[0m\u001b[1;33m\u001b[0m\u001b[0m\n",
      "\u001b[1;32m~\\AppData\\Roaming\\Python\\Python39\\site-packages\\keras\\mixed_precision\\loss_scale_optimizer.py\u001b[0m in \u001b[0;36m<module>\u001b[1;34m\u001b[0m\n\u001b[0;32m   1178\u001b[0m \u001b[1;33m\u001b[0m\u001b[0m\n\u001b[0;32m   1179\u001b[0m \u001b[1;31m# pylint: disable=protected-access\u001b[0m\u001b[1;33m\u001b[0m\u001b[1;33m\u001b[0m\u001b[1;33m\u001b[0m\u001b[0m\n\u001b[1;32m-> 1180\u001b[1;33m mixed_precision._register_wrapper_optimizer_cls(optimizer_v2.OptimizerV2,\n\u001b[0m\u001b[0;32m   1181\u001b[0m                                                 LossScaleOptimizerV1)\n\u001b[0;32m   1182\u001b[0m \u001b[1;33m\u001b[0m\u001b[0m\n",
      "\u001b[1;31mAttributeError\u001b[0m: module 'tensorflow.python.training.experimental.mixed_precision' has no attribute '_register_wrapper_optimizer_cls'"
     ]
    }
   ],
   "source": [
    "#first importing all the necessary libraries that we need\n",
    "import math\n",
    "import pandas_datareader as web\n",
    "import numpy as np\n",
    "import pandas as pd\n",
    "from sklearn.preprocessing import MinMaxScaler\n",
    "# from tensorflow.python.keras.models import Sequential\n",
    "import tensorflow as tf\n",
    "from tensorflow import keras\n",
    "from tensorflow.keras import layers,models\n",
    "import matplotlib.pyplot as plt\n",
    "from keras.layers import Dense,LSTM\n",
    "import yfinance as yf\n",
    "plt.style.use('fivethirtyeight')\n"
   ]
  },
  {
   "cell_type": "code",
   "execution_count": 3,
   "metadata": {
    "colab": {
     "base_uri": "https://localhost:8080/"
    },
    "id": "0I3ro1HarZiI",
    "outputId": "2f569fca-4228-4ac7-8af5-11e75a3d7d2f"
   },
   "outputs": [
    {
     "name": "stdout",
     "output_type": "stream",
     "text": [
      "\r",
      "[*********************100%***********************]  1 of 1 completed\n",
      "                  Open        High  ...   Adj Close     Volume\n",
      "Date                                ...                       \n",
      "2015-01-02   27.847500   27.860001  ...   24.782110  212818400\n",
      "2015-01-05   27.072500   27.162500  ...   24.083958  257142000\n",
      "2015-01-06   26.635000   26.857500  ...   24.086227  263188400\n",
      "2015-01-07   26.799999   27.049999  ...   24.423975  160423600\n",
      "2015-01-08   27.307501   28.037500  ...   25.362394  237458000\n",
      "...                ...         ...  ...         ...        ...\n",
      "2021-07-26  148.270004  149.830002  ...  148.767120   72434100\n",
      "2021-07-27  149.119995  149.210007  ...  146.550430  104818600\n",
      "2021-07-28  144.809998  146.970001  ...  144.763107  118931200\n",
      "2021-07-29  144.690002  146.550003  ...  145.422119   56699500\n",
      "2021-07-30  144.380005  146.330002  ...  145.641785   70382000\n",
      "\n",
      "[1656 rows x 6 columns]\n"
     ]
    }
   ],
   "source": [
    "# Get the stock quote i.e the stock data\n",
    "# df=web.DataReader('AAPL',data_source=\"yahoo\",start='2014-01-01',end='2021-07-31')\n",
    "df = yf.download('AAPL', start='2015-01-01',end='2021-07-31')\n",
    "# df = yf.download(stock, period='5y')\n",
    "print(df)"
   ]
  },
  {
   "cell_type": "code",
   "execution_count": 4,
   "metadata": {
    "colab": {
     "base_uri": "https://localhost:8080/"
    },
    "id": "gBCsDcQ9rZiN",
    "outputId": "5e5f5fa6-48b4-4a4d-97ef-7afc6d6c3513"
   },
   "outputs": [
    {
     "name": "stdout",
     "output_type": "stream",
     "text": [
      "                 Open       High        Low      Close  Adj Close     Volume\n",
      "Date                                                                        \n",
      "2015-01-02  27.847500  27.860001  26.837500  27.332500  24.782110  212818400\n",
      "2015-01-05  27.072500  27.162500  26.352501  26.562500  24.083958  257142000\n",
      "2015-01-06  26.635000  26.857500  26.157499  26.565001  24.086227  263188400\n",
      "2015-01-07  26.799999  27.049999  26.674999  26.937500  24.423975  160423600\n",
      "2015-01-08  27.307501  28.037500  27.174999  27.972500  25.362394  237458000\n",
      "                  Open        High  ...   Adj Close     Volume\n",
      "Date                                ...                       \n",
      "2021-07-26  148.270004  149.830002  ...  148.767120   72434100\n",
      "2021-07-27  149.119995  149.210007  ...  146.550430  104818600\n",
      "2021-07-28  144.809998  146.970001  ...  144.763107  118931200\n",
      "2021-07-29  144.690002  146.550003  ...  145.422119   56699500\n",
      "2021-07-30  144.380005  146.330002  ...  145.641785   70382000\n",
      "\n",
      "[5 rows x 6 columns]\n"
     ]
    }
   ],
   "source": [
    "# Exploring the data\n",
    "print(df.head())\n",
    "print(df.tail())"
   ]
  },
  {
   "cell_type": "code",
   "execution_count": 5,
   "metadata": {
    "colab": {
     "base_uri": "https://localhost:8080/"
    },
    "id": "EDy7YWshrZiO",
    "outputId": "e7c2a5d9-58df-4668-fa6a-35bbc03d30e3"
   },
   "outputs": [
    {
     "data": {
      "text/plain": [
       "(1656, 6)"
      ]
     },
     "execution_count": 5,
     "metadata": {
      "tags": []
     },
     "output_type": "execute_result"
    }
   ],
   "source": [
    "# The no. of rows and columns in the dataset\n",
    "df.shape"
   ]
  },
  {
   "cell_type": "code",
   "execution_count": 6,
   "metadata": {
    "colab": {
     "base_uri": "https://localhost:8080/",
     "height": 558
    },
    "id": "W6ZKJ3M4rZiQ",
    "outputId": "24d7e119-980a-4cc3-fe63-a23cf501cd50"
   },
   "outputs": [
    {
     "data": {
      "image/png": "[encoded data removed]",
      "text/plain": [
       "<Figure size 1152x576 with 1 Axes>"
      ]
     },
     "metadata": {
      "tags": []
     },
     "output_type": "display_data"
    }
   ],
   "source": [
    "# Visualing the data\n",
    "\n",
    "plt.figure(figsize=(16,8))\n",
    "plt.title(\"Closing price history\")\n",
    "plt.plot(df['Close'])\n",
    "plt.xlabel('Date',fontsize=18)\n",
    "plt.ylabel('Close price USD($)',fontsize=18)\n",
    "plt.show()"
   ]
  },
  {
   "cell_type": "code",
   "execution_count": 7,
   "metadata": {
    "colab": {
     "base_uri": "https://localhost:8080/"
    },
    "id": "tbMOkyQLrZiR",
    "outputId": "1be2cb05-8951-468e-f455-2c4a7857dab9"
   },
   "outputs": [
    {
     "data": {
      "text/plain": [
       "array([[ 27.33250046],\n",
       "       [ 26.5625    ],\n",
       "       [ 26.56500053],\n",
       "       ...,\n",
       "       [144.97999573],\n",
       "       [145.63999939],\n",
       "       [145.86000061]])"
      ]
     },
     "execution_count": 7,
     "metadata": {
      "tags": []
     },
     "output_type": "execute_result"
    }
   ],
   "source": [
    "# creating a new dataframe with only the \"Close\" column\n",
    "data=df.filter(['Close'])\n",
    "dataset=data.values\n",
    "dataset"
   ]
  },
  {
   "cell_type": "code",
   "execution_count": 8,
   "metadata": {
    "colab": {
     "base_uri": "https://localhost:8080/"
    },
    "id": "gmkW0Or-rZiS",
    "outputId": "669dba32-ee86-436a-84c9-767fca92b367"
   },
   "outputs": [
    {
     "data": {
      "text/plain": [
       "1325"
      ]
     },
     "execution_count": 8,
     "metadata": {
      "tags": []
     },
     "output_type": "execute_result"
    }
   ],
   "source": [
    "# Selecting the no. of rows to train the model on\n",
    "training_size=math.ceil(len(dataset)*0.8)\n",
    "training_size"
   ]
  },
  {
   "cell_type": "code",
   "execution_count": 9,
   "metadata": {
    "colab": {
     "base_uri": "https://localhost:8080/"
    },
    "id": "oxxiAGWLrZiT",
    "outputId": "342d4c98-8d55-4a8a-e571-b7ca2ada7b85"
   },
   "outputs": [
    {
     "data": {
      "text/plain": [
       "array([[0.03751038],\n",
       "       [0.03142655],\n",
       "       [0.03144631],\n",
       "       ...,\n",
       "       [0.96705252],\n",
       "       [0.97226726],\n",
       "       [0.9740055 ]])"
      ]
     },
     "execution_count": 9,
     "metadata": {
      "tags": []
     },
     "output_type": "execute_result"
    }
   ],
   "source": [
    "#scaling the data \n",
    "# It will make our data in the range of [0,1]\n",
    "scaler=MinMaxScaler(feature_range=(0,1))\n",
    "scaled_data=scaler.fit_transform(dataset)\n",
    "scaled_data"
   ]
  },
  {
   "cell_type": "code",
   "execution_count": 10,
   "metadata": {
    "colab": {
     "base_uri": "https://localhost:8080/"
    },
    "id": "LLPOLzyArZiU",
    "outputId": "c64bac38-df4a-4e49-dc97-5d1229b0f2c0"
   },
   "outputs": [
    {
     "data": {
      "text/plain": [
       "((1325, 1), (391, 1))"
      ]
     },
     "execution_count": 10,
     "metadata": {
      "tags": []
     },
     "output_type": "execute_result"
    }
   ],
   "source": [
    "#creating the training dataset i.e, scaled training dataset\n",
    "train_data=scaled_data[:training_size,:]\n",
    "\n",
    "#rest data will be our testing dataset\n",
    "test_data=scaled_data[training_size-60:,:]\n",
    "\n",
    "train_data.shape,test_data.shape"
   ]
  },
  {
   "cell_type": "code",
   "execution_count": 11,
   "metadata": {
    "colab": {
     "base_uri": "https://localhost:8080/"
    },
    "id": "5cbVh5-CrZiV",
    "outputId": "7791c8fb-3937-4395-aee0-84268efc3fbd"
   },
   "outputs": [
    {
     "name": "stdout",
     "output_type": "stream",
     "text": [
      "[array([0.03751038, 0.03142655, 0.03144631, 0.03438945, 0.04256707,\n",
      "       0.04280411, 0.03735236, 0.03926837, 0.03843876, 0.03255245,\n",
      "       0.03091297, 0.03630547, 0.03794494, 0.04357446, 0.04472012,\n",
      "       0.04495714, 0.03713508, 0.04932249, 0.05641371, 0.05297675,\n",
      "       0.05588038, 0.0559199 , 0.05771738, 0.058468  , 0.05647297,\n",
      "       0.05803343, 0.06257654, 0.06822582, 0.07134675, 0.07257142,\n",
      "       0.07405287, 0.07581086, 0.07527753, 0.07735157, 0.08426501,\n",
      "       0.08262554, 0.07594911, 0.07916881, 0.0752973 , 0.0765417 ,\n",
      "       0.07707503, 0.0754553 , 0.07124799, 0.07162328, 0.07268993,\n",
      "       0.06749498, 0.06301111, 0.06737645, 0.06567772, 0.06836409,\n",
      "       0.07249241, 0.07531704, 0.07340103, 0.0702406 , 0.0728282 ,\n",
      "       0.07180107, 0.06526291, 0.06696165, 0.06500613, 0.07116898])]\n",
      "[0.06733695208916057]\n",
      "\n",
      "[array([0.03751038, 0.03142655, 0.03144631, 0.03438945, 0.04256707,\n",
      "       0.04280411, 0.03735236, 0.03926837, 0.03843876, 0.03255245,\n",
      "       0.03091297, 0.03630547, 0.03794494, 0.04357446, 0.04472012,\n",
      "       0.04495714, 0.03713508, 0.04932249, 0.05641371, 0.05297675,\n",
      "       0.05588038, 0.0559199 , 0.05771738, 0.058468  , 0.05647297,\n",
      "       0.05803343, 0.06257654, 0.06822582, 0.07134675, 0.07257142,\n",
      "       0.07405287, 0.07581086, 0.07527753, 0.07735157, 0.08426501,\n",
      "       0.08262554, 0.07594911, 0.07916881, 0.0752973 , 0.0765417 ,\n",
      "       0.07707503, 0.0754553 , 0.07124799, 0.07162328, 0.07268993,\n",
      "       0.06749498, 0.06301111, 0.06737645, 0.06567772, 0.06836409,\n",
      "       0.07249241, 0.07531704, 0.07340103, 0.0702406 , 0.0728282 ,\n",
      "       0.07180107, 0.06526291, 0.06696165, 0.06500613, 0.07116898]), array([0.03142655, 0.03144631, 0.03438945, 0.04256707, 0.04280411,\n",
      "       0.03735236, 0.03926837, 0.03843876, 0.03255245, 0.03091297,\n",
      "       0.03630547, 0.03794494, 0.04357446, 0.04472012, 0.04495714,\n",
      "       0.03713508, 0.04932249, 0.05641371, 0.05297675, 0.05588038,\n",
      "       0.0559199 , 0.05771738, 0.058468  , 0.05647297, 0.05803343,\n",
      "       0.06257654, 0.06822582, 0.07134675, 0.07257142, 0.07405287,\n",
      "       0.07581086, 0.07527753, 0.07735157, 0.08426501, 0.08262554,\n",
      "       0.07594911, 0.07916881, 0.0752973 , 0.0765417 , 0.07707503,\n",
      "       0.0754553 , 0.07124799, 0.07162328, 0.07268993, 0.06749498,\n",
      "       0.06301111, 0.06737645, 0.06567772, 0.06836409, 0.07249241,\n",
      "       0.07531704, 0.07340103, 0.0702406 , 0.0728282 , 0.07180107,\n",
      "       0.06526291, 0.06696165, 0.06500613, 0.07116898, 0.06733695])]\n",
      "[0.06733695208916057, 0.06698140293940724]\n",
      "\n"
     ]
    }
   ],
   "source": [
    "# Split the data into x_train and y_train datasets\n",
    "# i.e, independent and dependent training features\n",
    "x_train=[]\n",
    "y_train=[]\n",
    "for i in range(60,training_size):\n",
    "    x_train.append(train_data[i-60:i,0])\n",
    "    y_train.append(train_data[i,0])\n",
    "    if(i<=61):\n",
    "        print(x_train)\n",
    "        print(y_train)\n",
    "        print()"
   ]
  },
  {
   "cell_type": "code",
   "execution_count": 12,
   "metadata": {
    "id": "KzXV87JTrZiW"
   },
   "outputs": [],
   "source": [
    "#convert the x_train and y_train to numpy arrays\n",
    "x_train,y_train=np.array(x_train),np.array(y_train)"
   ]
  },
  {
   "cell_type": "code",
   "execution_count": 13,
   "metadata": {
    "colab": {
     "base_uri": "https://localhost:8080/"
    },
    "id": "VT-Dj6W4rZiX",
    "outputId": "9450f65e-894d-4be4-dc9f-7d6ad0f1cfd1"
   },
   "outputs": [
    {
     "data": {
      "text/plain": [
       "(1265, 60, 1)"
      ]
     },
     "execution_count": 13,
     "metadata": {
      "tags": []
     },
     "output_type": "execute_result"
    }
   ],
   "source": [
    "#reshape the data to 3-dimensional since our model requires 3d data values\n",
    "x_train=np.reshape(x_train,(x_train.shape[0],x_train.shape[1],1))\n",
    "x_train.shape"
   ]
  },
  {
   "cell_type": "code",
   "execution_count": 14,
   "metadata": {
    "id": "f9y2P-dMrZiY"
   },
   "outputs": [],
   "source": [
    "#build the LSTM model\n",
    "model=Sequential()\n",
    "model.add(LSTM(50,return_sequences=True,input_shape=(x_train.shape[1],1)))\n",
    "model.add(LSTM(50,return_sequences=False))\n",
    "model.add(Dense(25))\n",
    "model.add(Dense(1))"
   ]
  },
  {
   "cell_type": "code",
   "execution_count": 15,
   "metadata": {
    "colab": {
     "base_uri": "https://localhost:8080/"
    },
    "id": "5uPU9oh1rZie",
    "outputId": "7ee30c7e-52f6-4302-9660-5dab976a0b7a"
   },
   "outputs": [
    {
     "name": "stdout",
     "output_type": "stream",
     "text": [
      "Model: \"sequential\"\n",
      "_________________________________________________________________\n",
      "Layer (type)                 Output Shape              Param #   \n",
      "=================================================================\n",
      "lstm (LSTM)                  (None, 60, 50)            10400     \n",
      "_________________________________________________________________\n",
      "lstm_1 (LSTM)                (None, 50)                20200     \n",
      "_________________________________________________________________\n",
      "dense (Dense)                (None, 25)                1275      \n",
      "_________________________________________________________________\n",
      "dense_1 (Dense)              (None, 1)                 26        \n",
      "=================================================================\n",
      "Total params: 31,901\n",
      "Trainable params: 31,901\n",
      "Non-trainable params: 0\n",
      "_________________________________________________________________\n"
     ]
    }
   ],
   "source": [
    "model.summary()"
   ]
  },
  {
   "cell_type": "code",
   "execution_count": 16,
   "metadata": {
    "colab": {
     "base_uri": "https://localhost:8080/"
    },
    "id": "pNo6CIHKrZif",
    "outputId": "5b9c4655-de18-4008-e777-ee107193bcff"
   },
   "outputs": [
    {
     "name": "stdout",
     "output_type": "stream",
     "text": [
      "Epoch 1/10\n",
      "1265/1265 [==============================] - 45s 21ms/step - loss: 0.0015\n",
      "Epoch 2/10\n",
      "1265/1265 [==============================] - 27s 21ms/step - loss: 2.3976e-04\n",
      "Epoch 3/10\n",
      "1265/1265 [==============================] - 27s 22ms/step - loss: 1.6412e-04\n",
      "Epoch 4/10\n",
      "1265/1265 [==============================] - 27s 21ms/step - loss: 1.6530e-04\n",
      "Epoch 5/10\n",
      "1265/1265 [==============================] - 27s 21ms/step - loss: 1.2545e-04\n",
      "Epoch 6/10\n",
      "1265/1265 [==============================] - 27s 21ms/step - loss: 1.3078e-04\n",
      "Epoch 7/10\n",
      "1265/1265 [==============================] - 27s 22ms/step - loss: 1.9733e-04\n",
      "Epoch 8/10\n",
      "1265/1265 [==============================] - 27s 22ms/step - loss: 1.1113e-04\n",
      "Epoch 9/10\n",
      "1265/1265 [==============================] - 27s 22ms/step - loss: 1.0068e-04\n",
      "Epoch 10/10\n",
      "1265/1265 [==============================] - 27s 21ms/step - loss: 1.2191e-04\n"
     ]
    },
    {
     "data": {
      "text/plain": [
       "<keras.callbacks.History at 0x7fbe74920b50>"
      ]
     },
     "execution_count": 16,
     "metadata": {
      "tags": []
     },
     "output_type": "execute_result"
    }
   ],
   "source": [
    "#compile the model\n",
    "model.compile(optimizer='adam',loss='mean_squared_error')\n",
    "# Train the model\n",
    "model.fit(x_train,y_train,batch_size=1,epochs=10)"
   ]
  },
  {
   "cell_type": "code",
   "execution_count": 17,
   "metadata": {
    "id": "RIrsjLRarZig"
   },
   "outputs": [],
   "source": [
    "#create the testing dataset\n",
    "x_test=[]\n",
    "# y_test=dataset[training_]\n",
    "y_test=dataset[training_size:,:]\n",
    "for i in range(60,len(test_data)):\n",
    "    x_test.append(test_data[i-60:i,0])\n"
   ]
  },
  {
   "cell_type": "code",
   "execution_count": 18,
   "metadata": {
    "colab": {
     "base_uri": "https://localhost:8080/"
    },
    "id": "Og680Kz_rZih",
    "outputId": "0fd7d94a-893e-4434-bbc6-bb7ce05a1569"
   },
   "outputs": [
    {
     "data": {
      "text/plain": [
       "(331, 60, 1)"
      ]
     },
     "execution_count": 18,
     "metadata": {
      "tags": []
     },
     "output_type": "execute_result"
    }
   ],
   "source": [
    "#convert the data to a numpy array\n",
    "x_test=np.array(x_test)\n",
    "#reshaping the data to be 3-d\n",
    "x_test=np.reshape(x_test,(x_test.shape[0],x_test.shape[1],1))\n",
    "x_test.shape"
   ]
  },
  {
   "cell_type": "code",
   "execution_count": 19,
   "metadata": {
    "id": "0R7yCHBprZii"
   },
   "outputs": [],
   "source": [
    "#get the models predicted price values\n",
    "predictions=model.predict(x_test)\n",
    "predictions=scaler.inverse_transform(predictions)"
   ]
  },
  {
   "cell_type": "code",
   "execution_count": 20,
   "metadata": {
    "colab": {
     "base_uri": "https://localhost:8080/"
    },
    "id": "84VdSoeKrZij",
    "outputId": "7320105d-7be6-4c0d-c2f5-bb8200b0437b"
   },
   "outputs": [
    {
     "data": {
      "text/plain": [
       "2.392657150084812"
      ]
     },
     "execution_count": 20,
     "metadata": {
      "tags": []
     },
     "output_type": "execute_result"
    }
   ],
   "source": [
    "#get the root mean squared error(RMSE)\n",
    "rmse=np.sqrt(np.mean(((predictions-y_test)**2)))\n",
    "rmse\n",
    "# rmse=np.sqrt(((predictions-y_test)**2),mean())\n"
   ]
  },
  {
   "cell_type": "code",
   "execution_count": 21,
   "metadata": {
    "colab": {
     "base_uri": "https://localhost:8080/"
    },
    "id": "4KrD3-VErZil",
    "outputId": "bab3e816-205d-4275-e456-41f9fa641dc9"
   },
   "outputs": [
    {
     "name": "stderr",
     "output_type": "stream",
     "text": [
      "/usr/local/lib/python3.7/dist-packages/ipykernel_launcher.py:4: SettingWithCopyWarning: \n",
      "A value is trying to be set on a copy of a slice from a DataFrame.\n",
      "Try using .loc[row_indexer,col_indexer] = value instead\n",
      "\n",
      "See the caveats in the documentation: https://pandas.pydata.org/pandas-docs/stable/user_guide/indexing.html#returning-a-view-versus-a-copy\n",
      "  after removing the cwd from sys.path.\n"
     ]
    }
   ],
   "source": [
    "#plot the data\n",
    "train=data[:training_size]\n",
    "valid=data[training_size:]\n",
    "valid['Predictions']=predictions"
   ]
  },
  {
   "cell_type": "code",
   "execution_count": 22,
   "metadata": {
    "colab": {
     "base_uri": "https://localhost:8080/",
     "height": 558
    },
    "id": "M92IDU5vrZim",
    "outputId": "1c6017c8-bc97-4dfb-afc6-11d65c12a3e7"
   },
   "outputs": [
    {
     "data": {
      "image/png": "[encoded data removed]",
      "text/plain": [
       "<Figure size 1152x576 with 1 Axes>"
      ]
     },
     "metadata": {
      "tags": []
     },
     "output_type": "display_data"
    }
   ],
   "source": [
    "#Visualize the data\n",
    "plt.figure(figsize=(16,8))\n",
    "plt.title('Model')\n",
    "plt.xlabel('Date',fontsize=18)\n",
    "plt.ylabel('Close price USD($)',fontsize=18)\n",
    "plt.plot(train['Close'])\n",
    "plt.plot(valid[['Close','Predictions']])\n",
    "plt.legend(['Train','Valid','Predictions'],loc='lower right')\n",
    "plt.show()"
   ]
  },
  {
   "cell_type": "code",
   "execution_count": 23,
   "metadata": {
    "colab": {
     "base_uri": "https://localhost:8080/",
     "height": 447
    },
    "id": "iEC3_KY6rZio",
    "outputId": "ac4eff43-e0ee-4281-93dd-1a52b7c59aca"
   },
   "outputs": [
    {
     "data": {
      "text/html": [
       "<div>\n",
       "<style scoped>\n",
       "    .dataframe tbody tr th:only-of-type {\n",
       "        vertical-align: middle;\n",
       "    }\n",
       "\n",
       "    .dataframe tbody tr th {\n",
       "        vertical-align: top;\n",
       "    }\n",
       "\n",
       "    .dataframe thead th {\n",
       "        text-align: right;\n",
       "    }\n",
       "</style>\n",
       "<table border=\"1\" class=\"dataframe\">\n",
       "  <thead>\n",
       "    <tr style=\"text-align: right;\">\n",
       "      <th></th>\n",
       "      <th>Close</th>\n",
       "      <th>Predictions</th>\n",
       "    </tr>\n",
       "    <tr>\n",
       "      <th>Date</th>\n",
       "      <th></th>\n",
       "      <th></th>\n",
       "    </tr>\n",
       "  </thead>\n",
       "  <tbody>\n",
       "    <tr>\n",
       "      <th>2020-04-08</th>\n",
       "      <td>66.517502</td>\n",
       "      <td>65.380981</td>\n",
       "    </tr>\n",
       "    <tr>\n",
       "      <th>2020-04-09</th>\n",
       "      <td>66.997498</td>\n",
       "      <td>66.605652</td>\n",
       "    </tr>\n",
       "    <tr>\n",
       "      <th>2020-04-13</th>\n",
       "      <td>68.312500</td>\n",
       "      <td>67.285942</td>\n",
       "    </tr>\n",
       "    <tr>\n",
       "      <th>2020-04-14</th>\n",
       "      <td>71.762497</td>\n",
       "      <td>68.440567</td>\n",
       "    </tr>\n",
       "    <tr>\n",
       "      <th>2020-04-15</th>\n",
       "      <td>71.107498</td>\n",
       "      <td>71.373337</td>\n",
       "    </tr>\n",
       "    <tr>\n",
       "      <th>...</th>\n",
       "      <td>...</td>\n",
       "      <td>...</td>\n",
       "    </tr>\n",
       "    <tr>\n",
       "      <th>2021-07-26</th>\n",
       "      <td>148.990005</td>\n",
       "      <td>147.248093</td>\n",
       "    </tr>\n",
       "    <tr>\n",
       "      <th>2021-07-27</th>\n",
       "      <td>146.770004</td>\n",
       "      <td>147.924911</td>\n",
       "    </tr>\n",
       "    <tr>\n",
       "      <th>2021-07-28</th>\n",
       "      <td>144.979996</td>\n",
       "      <td>146.494186</td>\n",
       "    </tr>\n",
       "    <tr>\n",
       "      <th>2021-07-29</th>\n",
       "      <td>145.639999</td>\n",
       "      <td>144.804611</td>\n",
       "    </tr>\n",
       "    <tr>\n",
       "      <th>2021-07-30</th>\n",
       "      <td>145.860001</td>\n",
       "      <td>144.854095</td>\n",
       "    </tr>\n",
       "  </tbody>\n",
       "</table>\n",
       "<p>331 rows × 2 columns</p>\n",
       "</div>"
      ],
      "text/plain": [
       "                 Close  Predictions\n",
       "Date                               \n",
       "2020-04-08   66.517502    65.380981\n",
       "2020-04-09   66.997498    66.605652\n",
       "2020-04-13   68.312500    67.285942\n",
       "2020-04-14   71.762497    68.440567\n",
       "2020-04-15   71.107498    71.373337\n",
       "...                ...          ...\n",
       "2021-07-26  148.990005   147.248093\n",
       "2021-07-27  146.770004   147.924911\n",
       "2021-07-28  144.979996   146.494186\n",
       "2021-07-29  145.639999   144.804611\n",
       "2021-07-30  145.860001   144.854095\n",
       "\n",
       "[331 rows x 2 columns]"
      ]
     },
     "execution_count": 23,
     "metadata": {
      "tags": []
     },
     "output_type": "execute_result"
    }
   ],
   "source": [
    "#the numerical data\n",
    "valid"
   ]
  },
  {
   "cell_type": "code",
   "execution_count": 24,
   "metadata": {
    "colab": {
     "base_uri": "https://localhost:8080/"
    },
    "id": "8DILyw4OrZip",
    "outputId": "47d9cc2c-20f7-4666-a198-0ff70c9051c5"
   },
   "outputs": [
    {
     "name": "stdout",
     "output_type": "stream",
     "text": [
      "\r",
      "[*********************100%***********************]  1 of 1 completed\n",
      "                 Close\n",
      "Date                  \n",
      "2021-07-30  145.860001\n",
      "2021-08-02  145.520004\n",
      "2021-08-03  147.360001\n",
      "2021-08-04  146.949997\n",
      "2021-08-05  147.059998\n",
      "2021-08-06  146.139999\n",
      "2021-08-09  146.089996\n",
      "2021-08-10  145.600006\n",
      "2021-08-11  145.860001\n"
     ]
    }
   ],
   "source": [
    "# Now lets see our model is working properly by predicting the closing stock of one day ahead\n",
    "#get the quote\n",
    "# apple_quote=web.DataReader('AAPL',data_source='yahoo',start='2021-06-25',end='2021-07-01')\n",
    "apple_quote=yf.download('AAPL',start='2021-07-30',end='2021-08-12')\n",
    "#create a new dataframe\n",
    "new_df=apple_quote.filter(['Close'])\n",
    "print(new_df)"
   ]
  },
  {
   "cell_type": "code",
   "execution_count": 25,
   "metadata": {
    "id": "YOAzgHA0rZir"
   },
   "outputs": [],
   "source": [
    "#now taking the last 60 day closing price values and converting the dataframe\n",
    "# to an ARRAY\n",
    "# last_60=test_data[-60:]\n",
    "# last_60"
   ]
  },
  {
   "cell_type": "code",
   "execution_count": 26,
   "metadata": {
    "colab": {
     "base_uri": "https://localhost:8080/"
    },
    "id": "yI6DtSx1rZir",
    "outputId": "e475ea0e-049f-4226-db8e-2cae5697a93c"
   },
   "outputs": [
    {
     "data": {
      "text/plain": [
       "array([[0.84664015],\n",
       "       [0.85035367],\n",
       "       [0.82380598],\n",
       "       [0.81637901],\n",
       "       [0.79156956],\n",
       "       [0.80895197],\n",
       "       [0.82854661],\n",
       "       [0.81922334],\n",
       "       [0.80800382],\n",
       "       [0.80673968],\n",
       "       [0.82744047],\n",
       "       [0.81258646],\n",
       "       [0.82578125],\n",
       "       [0.82420106],\n",
       "       [0.82380598],\n",
       "       [0.81140129],\n",
       "       [0.80610758],\n",
       "       [0.80350021],\n",
       "       [0.80966304],\n",
       "       [0.79765343],\n",
       "       [0.81622095],\n",
       "       [0.81629998],\n",
       "       [0.82293685],\n",
       "       [0.82601827],\n",
       "       [0.8179592 ],\n",
       "       [0.82775652],\n",
       "       [0.85248687],\n",
       "       [0.84585   ],\n",
       "       [0.8498795 ],\n",
       "       [0.86283727],\n",
       "       [0.85232894],\n",
       "       [0.86686689],\n",
       "       [0.88014065],\n",
       "       [0.87792836],\n",
       "       [0.8756371 ],\n",
       "       [0.87326675],\n",
       "       [0.88646154],\n",
       "       [0.89870823],\n",
       "       [0.90368595],\n",
       "       [0.90613527],\n",
       "       [0.92738919],\n",
       "       [0.94366539],\n",
       "       [0.96381317],\n",
       "       [0.95330472],\n",
       "       [0.96807969],\n",
       "       [0.96326003],\n",
       "       [0.97226726],\n",
       "       [1.        ],\n",
       "       [0.99470629],\n",
       "       [0.97819307],\n",
       "       [0.9470628 ],\n",
       "       [0.97629676],\n",
       "       [0.97037095],\n",
       "       [0.98143254],\n",
       "       [0.99533839],\n",
       "       [0.99873592],\n",
       "       [0.98119551],\n",
       "       [0.96705252],\n",
       "       [0.97226726],\n",
       "       [0.9740055 ]])"
      ]
     },
     "execution_count": 26,
     "metadata": {
      "tags": []
     },
     "output_type": "execute_result"
    }
   ],
   "source": [
    "# now scaling the data to be between 0 and 1\n",
    "# last_60_scaled=scaler.transform(last_60)\n",
    "last_60_scaled=test_data[-60:]\n",
    "last_60_scaled"
   ]
  },
  {
   "cell_type": "code",
   "execution_count": 27,
   "metadata": {
    "id": "XWJtXSOzrZis"
   },
   "outputs": [],
   "source": [
    "# Now creating a dataset of this last 60 day\n",
    "X_test=[last_60_scaled]\n",
    "#Converting it into numpy array\n",
    "X_test=np.array(X_test)\n",
    "#reshaping the array to be 3 dimensional\n",
    "X_test=np.reshape(X_test,(X_test.shape[0],X_test.shape[1],1))"
   ]
  },
  {
   "cell_type": "code",
   "execution_count": 28,
   "metadata": {
    "colab": {
     "base_uri": "https://localhost:8080/"
    },
    "id": "xbj-Tn-ArZit",
    "outputId": "57fb720f-d442-496f-cc90-43cc0e907b8b"
   },
   "outputs": [
    {
     "name": "stdout",
     "output_type": "stream",
     "text": [
      "[[0.9679296]]\n",
      "[[145.091]]\n"
     ]
    }
   ],
   "source": [
    "#Now calculating the predicted scale price\n",
    "pred=model.predict(X_test)\n",
    "print(pred)\n",
    "#undoing the scaling\n",
    "pred=scaler.inverse_transform(pred)\n",
    "print(pred)"
   ]
  },
  {
   "cell_type": "code",
   "execution_count": 29,
   "metadata": {
    "colab": {
     "base_uri": "https://localhost:8080/"
    },
    "id": "bVK8ecFgrZiv",
    "outputId": "ec5b0525-daf3-4636-fb0b-7a3d630d43e7"
   },
   "outputs": [
    {
     "name": "stdout",
     "output_type": "stream",
     "text": [
      "                 Close\n",
      "Date                  \n",
      "2021-07-30  145.860001\n",
      "2021-08-02  145.520004\n",
      "2021-08-03  147.360001\n",
      "2021-08-04  146.949997\n",
      "2021-08-05  147.059998\n",
      "2021-08-06  146.139999\n",
      "2021-08-09  146.089996\n",
      "2021-08-10  145.600006\n",
      "2021-08-11  145.860001\n"
     ]
    }
   ],
   "source": [
    "print(new_df)"
   ]
  },
  {
   "cell_type": "code",
   "execution_count": 30,
   "metadata": {
    "id": "rbuHtzaHrZix"
   },
   "outputs": [],
   "source": [
    "# as we could see above after 30th july theres the 2nd August and it is giving 145.52 valid closing price \n",
    "# and we got 145.091 which is very close to the valid price, so our model's prediction is very close we can increase it more\n",
    "# further if we increase the test data or increase the model epochs"
   ]
  },
  {
   "cell_type": "code",
   "execution_count": 31,
   "metadata": {
    "id": "7H1ibzgtrZiy"
   },
   "outputs": [],
   "source": [
    "# Now lets check if the predicted values match with the actual value or not\n",
    "# apple_quote2=web.DataReader('AAPL',data_source='yahoo',start='2021-01-01',end='2021-01-04')\n",
    "# apple_quote2"
   ]
  },
  {
   "cell_type": "code",
   "execution_count": 32,
   "metadata": {
    "id": "eR1BIuuLrZi0"
   },
   "outputs": [],
   "source": [
    "# apple_quote2['Close']\n",
    "# as we can see the actual price is 129 which is very close to our predicted price 123"
   ]
  },
  {
   "cell_type": "markdown",
   "metadata": {
    "id": "K4p0pY-vrZi1"
   },
   "source": [
    "## Predicting next 10 days"
   ]
  },
  {
   "cell_type": "code",
   "execution_count": 33,
   "metadata": {
    "colab": {
     "base_uri": "https://localhost:8080/"
    },
    "id": "hy19_EN7rZi3",
    "outputId": "0969b107-214e-4e25-dc5f-2545aac4c51c"
   },
   "outputs": [
    {
     "data": {
      "text/plain": [
       "391"
      ]
     },
     "execution_count": 33,
     "metadata": {
      "tags": []
     },
     "output_type": "execute_result"
    }
   ],
   "source": [
    "len(test_data)"
   ]
  },
  {
   "cell_type": "code",
   "execution_count": 34,
   "metadata": {
    "colab": {
     "base_uri": "https://localhost:8080/"
    },
    "id": "ZgzrNY-_rZi4",
    "outputId": "cefbccab-ad76-4cc2-e49a-56240c59cac0"
   },
   "outputs": [
    {
     "data": {
      "text/plain": [
       "(1, 60)"
      ]
     },
     "execution_count": 34,
     "metadata": {
      "tags": []
     },
     "output_type": "execute_result"
    }
   ],
   "source": [
    "x_input=test_data[-60:].reshape(1,-1)\n",
    "x_input.shape"
   ]
  },
  {
   "cell_type": "code",
   "execution_count": 35,
   "metadata": {
    "colab": {
     "base_uri": "https://localhost:8080/"
    },
    "id": "ZWOD3x01rZi5",
    "outputId": "07ca5c40-9911-4812-fcd6-fafa5894bfd2"
   },
   "outputs": [
    {
     "data": {
      "text/plain": [
       "[0.846640151709008,\n",
       " 0.8503536683997898,\n",
       " 0.8238059784580588,\n",
       " 0.8163790053569425,\n",
       " 0.7915695624007218,\n",
       " 0.8089519719753788,\n",
       " 0.8285466136946206,\n",
       " 0.8192233382745217,\n",
       " 0.8080038208158874,\n",
       " 0.8067396795503464,\n",
       " 0.8274404674821044,\n",
       " 0.8125864609994246,\n",
       " 0.8257812481633301,\n",
       " 0.8242010565112919,\n",
       " 0.8238059784580588,\n",
       " 0.8114012871201721,\n",
       " 0.8061075787773522,\n",
       " 0.8035002082990865,\n",
       " 0.8096630401346617,\n",
       " 0.7976534268500085,\n",
       " 0.8162209500234702,\n",
       " 0.8162999776902063,\n",
       " 0.8229368549653034,\n",
       " 0.8260182708830911,\n",
       " 0.8179591970089807,\n",
       " 0.8277565178686016,\n",
       " 0.8524868728776386,\n",
       " 0.8458499956025415,\n",
       " 0.8498795023993727,\n",
       " 0.8628372668435175,\n",
       " 0.8523289381050613,\n",
       " 0.866866894201244,\n",
       " 0.8801406487514382,\n",
       " 0.8779283563264059,\n",
       " 0.8756370965150849,\n",
       " 0.8732667487565801,\n",
       " 0.8864615359204858,\n",
       " 0.8987082322053476,\n",
       " 0.9036859504421179,\n",
       " 0.9061352655869112,\n",
       " 0.9273891869053749,\n",
       " 0.9436653899870681,\n",
       " 0.9638131650930154,\n",
       " 0.9533047157936642,\n",
       " 0.9680796946096079,\n",
       " 0.9632600317063099,\n",
       " 0.9722672567399117,\n",
       " 1.0000000000000002,\n",
       " 0.9947062916571802,\n",
       " 0.978193065855726,\n",
       " 0.9470627960109052,\n",
       " 0.9762967635367431,\n",
       " 0.9703709544209288,\n",
       " 0.9814325371069857,\n",
       " 0.9953383924301743,\n",
       " 0.9987359190149067,\n",
       " 0.981195514387225,\n",
       " 0.9670525157833804,\n",
       " 0.9722672567399117,\n",
       " 0.9740055037254222]"
      ]
     },
     "execution_count": 35,
     "metadata": {
      "tags": []
     },
     "output_type": "execute_result"
    }
   ],
   "source": [
    "temp_input=list(x_input)\n",
    "temp_input=temp_input[0].tolist()\n",
    "temp_input"
   ]
  },
  {
   "cell_type": "code",
   "execution_count": 36,
   "metadata": {
    "colab": {
     "base_uri": "https://localhost:8080/"
    },
    "id": "8Ppqm0rrrZi6",
    "outputId": "02e63f8b-f49b-4265-cf6a-2a48d592a28e"
   },
   "outputs": [
    {
     "name": "stdout",
     "output_type": "stream",
     "text": [
      "[0.9679296]\n",
      "61\n",
      "1 day input [0.85035367 0.82380598 0.81637901 0.79156956 0.80895197 0.82854661\n",
      " 0.81922334 0.80800382 0.80673968 0.82744047 0.81258646 0.82578125\n",
      " 0.82420106 0.82380598 0.81140129 0.80610758 0.80350021 0.80966304\n",
      " 0.79765343 0.81622095 0.81629998 0.82293685 0.82601827 0.8179592\n",
      " 0.82775652 0.85248687 0.84585    0.8498795  0.86283727 0.85232894\n",
      " 0.86686689 0.88014065 0.87792836 0.8756371  0.87326675 0.88646154\n",
      " 0.89870823 0.90368595 0.90613527 0.92738919 0.94366539 0.96381317\n",
      " 0.95330472 0.96807969 0.96326003 0.97226726 1.         0.99470629\n",
      " 0.97819307 0.9470628  0.97629676 0.97037095 0.98143254 0.99533839\n",
      " 0.99873592 0.98119551 0.96705252 0.97226726 0.9740055  0.9679296 ]\n",
      "1 day output [[0.96407366]]\n",
      "2 day input [0.82380598 0.81637901 0.79156956 0.80895197 0.82854661 0.81922334\n",
      " 0.80800382 0.80673968 0.82744047 0.81258646 0.82578125 0.82420106\n",
      " 0.82380598 0.81140129 0.80610758 0.80350021 0.80966304 0.79765343\n",
      " 0.81622095 0.81629998 0.82293685 0.82601827 0.8179592  0.82775652\n",
      " 0.85248687 0.84585    0.8498795  0.86283727 0.85232894 0.86686689\n",
      " 0.88014065 0.87792836 0.8756371  0.87326675 0.88646154 0.89870823\n",
      " 0.90368595 0.90613527 0.92738919 0.94366539 0.96381317 0.95330472\n",
      " 0.96807969 0.96326003 0.97226726 1.         0.99470629 0.97819307\n",
      " 0.9470628  0.97629676 0.97037095 0.98143254 0.99533839 0.99873592\n",
      " 0.98119551 0.96705252 0.97226726 0.9740055  0.9679296  0.96407366]\n",
      "2 day output [[0.9600939]]\n",
      "3 day input [0.81637901 0.79156956 0.80895197 0.82854661 0.81922334 0.80800382\n",
      " 0.80673968 0.82744047 0.81258646 0.82578125 0.82420106 0.82380598\n",
      " 0.81140129 0.80610758 0.80350021 0.80966304 0.79765343 0.81622095\n",
      " 0.81629998 0.82293685 0.82601827 0.8179592  0.82775652 0.85248687\n",
      " 0.84585    0.8498795  0.86283727 0.85232894 0.86686689 0.88014065\n",
      " 0.87792836 0.8756371  0.87326675 0.88646154 0.89870823 0.90368595\n",
      " 0.90613527 0.92738919 0.94366539 0.96381317 0.95330472 0.96807969\n",
      " 0.96326003 0.97226726 1.         0.99470629 0.97819307 0.9470628\n",
      " 0.97629676 0.97037095 0.98143254 0.99533839 0.99873592 0.98119551\n",
      " 0.96705252 0.97226726 0.9740055  0.9679296  0.96407366 0.96009392]\n",
      "3 day output [[0.9562418]]\n",
      "4 day input [0.79156956 0.80895197 0.82854661 0.81922334 0.80800382 0.80673968\n",
      " 0.82744047 0.81258646 0.82578125 0.82420106 0.82380598 0.81140129\n",
      " 0.80610758 0.80350021 0.80966304 0.79765343 0.81622095 0.81629998\n",
      " 0.82293685 0.82601827 0.8179592  0.82775652 0.85248687 0.84585\n",
      " 0.8498795  0.86283727 0.85232894 0.86686689 0.88014065 0.87792836\n",
      " 0.8756371  0.87326675 0.88646154 0.89870823 0.90368595 0.90613527\n",
      " 0.92738919 0.94366539 0.96381317 0.95330472 0.96807969 0.96326003\n",
      " 0.97226726 1.         0.99470629 0.97819307 0.9470628  0.97629676\n",
      " 0.97037095 0.98143254 0.99533839 0.99873592 0.98119551 0.96705252\n",
      " 0.97226726 0.9740055  0.9679296  0.96407366 0.96009392 0.95624179]\n",
      "4 day output [[0.9525243]]\n",
      "5 day input [0.80895197 0.82854661 0.81922334 0.80800382 0.80673968 0.82744047\n",
      " 0.81258646 0.82578125 0.82420106 0.82380598 0.81140129 0.80610758\n",
      " 0.80350021 0.80966304 0.79765343 0.81622095 0.81629998 0.82293685\n",
      " 0.82601827 0.8179592  0.82775652 0.85248687 0.84585    0.8498795\n",
      " 0.86283727 0.85232894 0.86686689 0.88014065 0.87792836 0.8756371\n",
      " 0.87326675 0.88646154 0.89870823 0.90368595 0.90613527 0.92738919\n",
      " 0.94366539 0.96381317 0.95330472 0.96807969 0.96326003 0.97226726\n",
      " 1.         0.99470629 0.97819307 0.9470628  0.97629676 0.97037095\n",
      " 0.98143254 0.99533839 0.99873592 0.98119551 0.96705252 0.97226726\n",
      " 0.9740055  0.9679296  0.96407366 0.96009392 0.95624179 0.9525243 ]\n",
      "5 day output [[0.9489355]]\n",
      "6 day input [0.82854661 0.81922334 0.80800382 0.80673968 0.82744047 0.81258646\n",
      " 0.82578125 0.82420106 0.82380598 0.81140129 0.80610758 0.80350021\n",
      " 0.80966304 0.79765343 0.81622095 0.81629998 0.82293685 0.82601827\n",
      " 0.8179592  0.82775652 0.85248687 0.84585    0.8498795  0.86283727\n",
      " 0.85232894 0.86686689 0.88014065 0.87792836 0.8756371  0.87326675\n",
      " 0.88646154 0.89870823 0.90368595 0.90613527 0.92738919 0.94366539\n",
      " 0.96381317 0.95330472 0.96807969 0.96326003 0.97226726 1.\n",
      " 0.99470629 0.97819307 0.9470628  0.97629676 0.97037095 0.98143254\n",
      " 0.99533839 0.99873592 0.98119551 0.96705252 0.97226726 0.9740055\n",
      " 0.9679296  0.96407366 0.96009392 0.95624179 0.9525243  0.94893551]\n",
      "6 day output [[0.9454682]]\n",
      "7 day input [0.81922334 0.80800382 0.80673968 0.82744047 0.81258646 0.82578125\n",
      " 0.82420106 0.82380598 0.81140129 0.80610758 0.80350021 0.80966304\n",
      " 0.79765343 0.81622095 0.81629998 0.82293685 0.82601827 0.8179592\n",
      " 0.82775652 0.85248687 0.84585    0.8498795  0.86283727 0.85232894\n",
      " 0.86686689 0.88014065 0.87792836 0.8756371  0.87326675 0.88646154\n",
      " 0.89870823 0.90368595 0.90613527 0.92738919 0.94366539 0.96381317\n",
      " 0.95330472 0.96807969 0.96326003 0.97226726 1.         0.99470629\n",
      " 0.97819307 0.9470628  0.97629676 0.97037095 0.98143254 0.99533839\n",
      " 0.99873592 0.98119551 0.96705252 0.97226726 0.9740055  0.9679296\n",
      " 0.96407366 0.96009392 0.95624179 0.9525243  0.94893551 0.94546819]\n",
      "7 day output [[0.94211656]]\n",
      "8 day input [0.80800382 0.80673968 0.82744047 0.81258646 0.82578125 0.82420106\n",
      " 0.82380598 0.81140129 0.80610758 0.80350021 0.80966304 0.79765343\n",
      " 0.81622095 0.81629998 0.82293685 0.82601827 0.8179592  0.82775652\n",
      " 0.85248687 0.84585    0.8498795  0.86283727 0.85232894 0.86686689\n",
      " 0.88014065 0.87792836 0.8756371  0.87326675 0.88646154 0.89870823\n",
      " 0.90368595 0.90613527 0.92738919 0.94366539 0.96381317 0.95330472\n",
      " 0.96807969 0.96326003 0.97226726 1.         0.99470629 0.97819307\n",
      " 0.9470628  0.97629676 0.97037095 0.98143254 0.99533839 0.99873592\n",
      " 0.98119551 0.96705252 0.97226726 0.9740055  0.9679296  0.96407366\n",
      " 0.96009392 0.95624179 0.9525243  0.94893551 0.94546819 0.94211656]\n",
      "8 day output [[0.93887687]]\n",
      "9 day input [0.80673968 0.82744047 0.81258646 0.82578125 0.82420106 0.82380598\n",
      " 0.81140129 0.80610758 0.80350021 0.80966304 0.79765343 0.81622095\n",
      " 0.81629998 0.82293685 0.82601827 0.8179592  0.82775652 0.85248687\n",
      " 0.84585    0.8498795  0.86283727 0.85232894 0.86686689 0.88014065\n",
      " 0.87792836 0.8756371  0.87326675 0.88646154 0.89870823 0.90368595\n",
      " 0.90613527 0.92738919 0.94366539 0.96381317 0.95330472 0.96807969\n",
      " 0.96326003 0.97226726 1.         0.99470629 0.97819307 0.9470628\n",
      " 0.97629676 0.97037095 0.98143254 0.99533839 0.99873592 0.98119551\n",
      " 0.96705252 0.97226726 0.9740055  0.9679296  0.96407366 0.96009392\n",
      " 0.95624179 0.9525243  0.94893551 0.94546819 0.94211656 0.93887687]\n",
      "9 day output [[0.93574697]]\n",
      "[[0.9679296016693115], [0.964073657989502], [0.9600939154624939], [0.95624178647995], [0.9525243043899536], [0.9489355087280273], [0.9454681873321533], [0.9421165585517883], [0.9388768672943115], [0.935746967792511]]\n"
     ]
    }
   ],
   "source": [
    "# demonstrate prediction for next 10 days\n",
    "from numpy import array\n",
    "\n",
    "lst_output=[]\n",
    "n_steps=60\n",
    "i=0\n",
    "while(i<10):\n",
    "    \n",
    "    if(len(temp_input)>60):\n",
    "        #print(temp_input)\n",
    "        x_input=np.array(temp_input[1:])\n",
    "        print(\"{} day input {}\".format(i,x_input))\n",
    "        x_input=x_input.reshape(1,-1)\n",
    "        x_input = x_input.reshape((1, n_steps, 1))\n",
    "        #print(x_input)\n",
    "        yhat = model.predict(x_input, verbose=0)\n",
    "        print(\"{} day output {}\".format(i,yhat))\n",
    "        temp_input.extend(yhat[0].tolist())\n",
    "        temp_input=temp_input[1:]\n",
    "        #print(temp_input)\n",
    "        lst_output.extend(yhat.tolist())\n",
    "        i=i+1\n",
    "    else:\n",
    "        x_input = x_input.reshape((1, n_steps,1))\n",
    "        yhat = model.predict(x_input, verbose=0)\n",
    "        print(yhat[0])\n",
    "        temp_input.extend(yhat[0].tolist())\n",
    "        print(len(temp_input))\n",
    "        lst_output.extend(yhat.tolist())\n",
    "        i=i+1\n",
    "    \n",
    "\n",
    "print(lst_output)"
   ]
  },
  {
   "cell_type": "code",
   "execution_count": 37,
   "metadata": {
    "colab": {
     "base_uri": "https://localhost:8080/"
    },
    "id": "MSiAtUp2rZi7",
    "outputId": "c38fdc64-f57a-46ba-d014-0090a7368374"
   },
   "outputs": [
    {
     "name": "stdout",
     "output_type": "stream",
     "text": [
      "[[145.0910041 ]\n",
      " [144.60297661]\n",
      " [144.09928051]\n",
      " [143.61173583]\n",
      " [143.14123273]\n",
      " [142.68701682]\n",
      " [142.24817531]\n",
      " [141.82397643]\n",
      " [141.41394492]\n",
      " [141.01780921]]                  Close\n",
      "Date                  \n",
      "2021-07-30  145.860001\n",
      "2021-08-02  145.520004\n",
      "2021-08-03  147.360001\n",
      "2021-08-04  146.949997\n",
      "2021-08-05  147.059998\n",
      "2021-08-06  146.139999\n",
      "2021-08-09  146.089996\n",
      "2021-08-10  145.600006\n",
      "2021-08-11  145.860001\n"
     ]
    }
   ],
   "source": [
    "lst_output=np.array(lst_output)\n",
    "print(scaler.inverse_transform(lst_output),new_df)"
   ]
  },
  {
   "cell_type": "code",
   "execution_count": 38,
   "metadata": {
    "id": "vUP_UFTsrZi8"
   },
   "outputs": [],
   "source": [
    "day_new=np.arange(1,61)\n",
    "day_pred=np.arange(61,69)"
   ]
  },
  {
   "cell_type": "code",
   "execution_count": 39,
   "metadata": {
    "colab": {
     "base_uri": "https://localhost:8080/"
    },
    "id": "G6jH9Zx4rZi9",
    "outputId": "8257feb9-b4b3-4fe7-bb98-b5a64b9bd4d8"
   },
   "outputs": [
    {
     "name": "stdout",
     "output_type": "stream",
     "text": [
      "1656 [[0.03751038]\n",
      " [0.03142655]\n",
      " [0.03144631]\n",
      " ...\n",
      " [0.96705252]\n",
      " [0.97226726]\n",
      " [0.9740055 ]]\n"
     ]
    }
   ],
   "source": [
    "print(len(scaled_data),scaled_data)"
   ]
  },
  {
   "cell_type": "code",
   "execution_count": 40,
   "metadata": {
    "colab": {
     "base_uri": "https://localhost:8080/",
     "height": 300
    },
    "id": "YMQaaJ6prZi9",
    "outputId": "0ba663cb-ef2d-4449-caa4-3150224a3aad"
   },
   "outputs": [
    {
     "data": {
      "text/plain": [
       "[<matplotlib.lines.Line2D at 0x7fbe70389050>]"
      ]
     },
     "execution_count": 40,
     "metadata": {
      "tags": []
     },
     "output_type": "execute_result"
    },
    {
     "data": {
      "image/png": "[encoded data removed]",
      "text/plain": [
       "<Figure size 432x288 with 1 Axes>"
      ]
     },
     "metadata": {
      "tags": []
     },
     "output_type": "display_data"
    }
   ],
   "source": [
    "plt.plot(day_new,scaler.inverse_transform(scaled_data[-60:]))\n",
    "plt.plot(day_pred,scaler.inverse_transform(lst_output)[:-2])"
   ]
  },
  {
   "cell_type": "code",
   "execution_count": 41,
   "metadata": {
    "colab": {
     "base_uri": "https://localhost:8080/",
     "height": 300
    },
    "id": "oy-uwzvcxZHI",
    "outputId": "7d23fe08-34b6-4806-d043-1b88a1e44ec2"
   },
   "outputs": [
    {
     "data": {
      "text/plain": [
       "[<matplotlib.lines.Line2D at 0x7fbe78123210>]"
      ]
     },
     "execution_count": 41,
     "metadata": {
      "tags": []
     },
     "output_type": "execute_result"
    },
    {
     "data": {
      "image/png": "[encoded data removed]",
      "text/plain": [
       "<Figure size 432x288 with 1 Axes>"
      ]
     },
     "metadata": {
      "tags": []
     },
     "output_type": "display_data"
    }
   ],
   "source": [
    "plt.plot(day_new,scaler.inverse_transform(scaled_data[-60:]))\n",
    "plt.plot(day_pred,new_df[1:])"
   ]
  },
  {
   "cell_type": "code",
   "execution_count": 42,
   "metadata": {
    "colab": {
     "base_uri": "https://localhost:8080/",
     "height": 299
    },
    "id": "sVuJwwKVrZi-",
    "outputId": "edf460fa-d4b1-4e68-8155-5708623a62d7"
   },
   "outputs": [
    {
     "data": {
      "text/plain": [
       "[<matplotlib.lines.Line2D at 0x7fbe703a2ed0>]"
      ]
     },
     "execution_count": 42,
     "metadata": {
      "tags": []
     },
     "output_type": "execute_result"
    },
    {
     "data": {
      "image/png": "[encoded data removed]",
      "text/plain": [
       "<Figure size 432x288 with 1 Axes>"
      ]
     },
     "metadata": {
      "tags": []
     },
     "output_type": "display_data"
    }
   ],
   "source": [
    "df3=scaled_data.tolist()\n",
    "df3.extend(lst_output)\n",
    "plt.plot(df3[-100:])"
   ]
  },
  {
   "cell_type": "markdown",
   "metadata": {
    "id": "mbWJo6LyDDAm"
   },
   "source": [
    "#to check our model thefollowing codes have been **written**\n"
   ]
  },
  {
   "cell_type": "code",
   "execution_count": 43,
   "metadata": {
    "colab": {
     "base_uri": "https://localhost:8080/"
    },
    "id": "suXWXEksrZi_",
    "outputId": "7de5f7a8-cd7a-4ee8-f374-d700caed0180"
   },
   "outputs": [
    {
     "name": "stdout",
     "output_type": "stream",
     "text": [
      "\r",
      "[*********************100%***********************]  1 of 1 completed\n",
      "                  Open        High  ...   Adj Close     Volume\n",
      "Date                                ...                       \n",
      "2016-08-15   27.035000   27.385000  ...   25.668697  103472800\n",
      "2016-08-16   27.407499   27.557501  ...   25.645245  135177600\n",
      "2016-08-17   27.275000   27.342501  ...   25.607737  101424000\n",
      "2016-08-18   27.307501   27.400000  ...   25.574909   87938800\n",
      "2016-08-19   27.192499   27.422501  ...   25.640558  101472400\n",
      "...                ...         ...  ...         ...        ...\n",
      "2021-08-09  146.199997  146.699997  ...  146.089996   48908700\n",
      "2021-08-10  146.440002  147.710007  ...  145.600006   68922200\n",
      "2021-08-11  146.050003  146.720001  ...  145.860001   48422100\n",
      "2021-08-12  146.190002  149.050003  ...  148.889999   73779100\n",
      "2021-08-13  148.970001  149.440002  ...  149.100006   59318800\n",
      "\n",
      "[1259 rows x 6 columns]\n"
     ]
    }
   ],
   "source": [
    "# apple_quote3=web.DataReader('AAPL',data_source='yahoo',start='2021-05-28',end='2021-06-30')\n",
    "df4=yf.download('AAPL',period='5y')\n",
    "print(df4)"
   ]
  },
  {
   "cell_type": "code",
   "execution_count": 44,
   "metadata": {
    "colab": {
     "base_uri": "https://localhost:8080/",
     "height": 558
    },
    "id": "ovhoK7dt_WP8",
    "outputId": "0c20a4c8-d288-4e89-904a-d77c63ceaa1a"
   },
   "outputs": [
    {
     "data": {
      "image/png": "[encoded data removed]",
      "text/plain": [
       "<Figure size 1152x576 with 1 Axes>"
      ]
     },
     "metadata": {
      "tags": []
     },
     "output_type": "display_data"
    }
   ],
   "source": [
    "# Visualing the data\n",
    "\n",
    "plt.figure(figsize=(16,8))\n",
    "plt.title(\"Closing price history\")\n",
    "plt.plot(df4['Close'])\n",
    "plt.xlabel('Date',fontsize=18)\n",
    "plt.ylabel('Close price USD($)',fontsize=18)\n",
    "plt.show()"
   ]
  },
  {
   "cell_type": "code",
   "execution_count": 45,
   "metadata": {
    "colab": {
     "base_uri": "https://localhost:8080/"
    },
    "id": "v8Q1BdFdrZi_",
    "outputId": "a8567502-ee11-42e8-8c16-31327c18b37c"
   },
   "outputs": [
    {
     "name": "stdout",
     "output_type": "stream",
     "text": [
      "[[ 27.37000084]\n",
      " [ 27.34499931]\n",
      " [ 27.30500031]\n",
      " ...\n",
      " [145.86000061]\n",
      " [148.88999939]\n",
      " [149.1000061 ]]\n",
      "[[0.01286807]\n",
      " [0.01266541]\n",
      " [0.01234118]\n",
      " ...\n",
      " [0.97333177]\n",
      " [0.99789252]\n",
      " [0.99959481]]\n"
     ]
    }
   ],
   "source": [
    "# creating a new dataframe with only the \"Close\" column\n",
    "data=df4.filter(['Close'])\n",
    "dataset=data.values\n",
    "print(dataset)\n",
    "#scaling the data \n",
    "# It will make our data in the range of [0,1]\n",
    "scaler=MinMaxScaler(feature_range=(0,1))\n",
    "scaled_data=scaler.fit_transform(dataset)\n",
    "print(scaled_data)\n",
    "train_data = scaled_data"
   ]
  },
  {
   "cell_type": "code",
   "execution_count": 46,
   "metadata": {
    "id": "yEXdrxJaAMuh"
   },
   "outputs": [],
   "source": [
    "x_train = []\n",
    "y_train = []\n",
    "for i in range(60, len(scaled_data)):\n",
    "      x_train.append(train_data[i-60:i, 0])\n",
    "      y_train.append(train_data[i, 0])\n",
    "\n",
    "# convert the x_train and y_train to numpy arrays\n",
    "x_train, y_train = np.array(x_train), np.array(y_train)\n",
    "x_train = np.reshape(x_train, (x_train.shape[0], x_train.shape[1], 1))"
   ]
  },
  {
   "cell_type": "code",
   "execution_count": 47,
   "metadata": {
    "colab": {
     "base_uri": "https://localhost:8080/"
    },
    "id": "eQ4XqK7_AlVE",
    "outputId": "1955b9ca-c8c2-4db1-a77e-4a8277de56c1"
   },
   "outputs": [
    {
     "name": "stdout",
     "output_type": "stream",
     "text": [
      "Epoch 1/10\n",
      "1199/1199 [==============================] - 29s 22ms/step - loss: 0.0031\n",
      "Epoch 2/10\n",
      "1199/1199 [==============================] - 26s 22ms/step - loss: 0.0010\n",
      "Epoch 3/10\n",
      "1199/1199 [==============================] - 26s 22ms/step - loss: 0.0010\n",
      "Epoch 4/10\n",
      "1199/1199 [==============================] - 26s 22ms/step - loss: 5.8664e-04\n",
      "Epoch 5/10\n",
      "1199/1199 [==============================] - 26s 22ms/step - loss: 5.6108e-04\n",
      "Epoch 6/10\n",
      "1199/1199 [==============================] - 26s 22ms/step - loss: 5.6223e-04\n",
      "Epoch 7/10\n",
      "1199/1199 [==============================] - 26s 22ms/step - loss: 5.5751e-04\n",
      "Epoch 8/10\n",
      "1199/1199 [==============================] - 26s 22ms/step - loss: 3.2704e-04\n",
      "Epoch 9/10\n",
      "1199/1199 [==============================] - 26s 22ms/step - loss: 4.1687e-04\n",
      "Epoch 10/10\n",
      "1199/1199 [==============================] - 26s 22ms/step - loss: 3.7231e-04\n"
     ]
    },
    {
     "data": {
      "text/plain": [
       "<keras.callbacks.History at 0x7fbe6f185710>"
      ]
     },
     "execution_count": 47,
     "metadata": {
      "tags": []
     },
     "output_type": "execute_result"
    }
   ],
   "source": [
    "# build the LSTM model\n",
    "model = Sequential()\n",
    "model.add(LSTM(50, return_sequences=True,input_shape=(x_train.shape[1], 1)))\n",
    "model.add(LSTM(50, return_sequences=False))\n",
    "model.add(Dense(25))\n",
    "model.add(Dense(1))\n",
    "# compile the model\n",
    "model.compile(optimizer='adam', loss='mean_squared_error')\n",
    "# Train the model\n",
    "model.fit(x_train, y_train, batch_size=1, epochs=10)"
   ]
  },
  {
   "cell_type": "code",
   "execution_count": 48,
   "metadata": {
    "id": "igkSqsYIBRyM"
   },
   "outputs": [],
   "source": [
    "x_input = scaled_data[-60:].reshape(1, -1)\n",
    "temp_input = list(x_input)\n",
    "temp_input = temp_input[0].tolist()"
   ]
  },
  {
   "cell_type": "code",
   "execution_count": 49,
   "metadata": {
    "colab": {
     "base_uri": "https://localhost:8080/"
    },
    "id": "JsMLUV_1BR0d",
    "outputId": "9eaee5f7-2863-47cb-f034-5c7453308757"
   },
   "outputs": [
    {
     "name": "stdout",
     "output_type": "stream",
     "text": [
      "[1.0019294]\n",
      "61\n",
      "1 day input [0.80772898 0.82126576 0.81964461 0.81923929 0.80651309 0.80108218\n",
      " 0.79840723 0.80472979 0.79240891 0.81145767 0.81153875 0.81834764\n",
      " 0.82150893 0.81324097 0.82329223 0.84866355 0.84185466 0.8459886\n",
      " 0.85928221 0.84850153 0.86341628 0.87703407 0.87476444 0.8724138\n",
      " 0.86998201 0.88351879 0.8960829  0.90118963 0.90370243 0.92550722\n",
      " 0.94220528 0.96287526 0.95209444 0.96725237 0.96230779 0.97154847\n",
      " 1.         0.99456909 0.97762786 0.94569074 0.97568241 0.96960301\n",
      " 0.9809513  0.99521757 0.99870316 0.98070813 0.96619857 0.97154847\n",
      " 0.97333177 0.9705758  0.98549056 0.98216713 0.98305878 0.9756014\n",
      " 0.97519608 0.97122429 0.97333177 0.99789252 0.99959481 1.0019294 ]\n",
      "1 day output [[1.0040343]]\n",
      "2 day input [0.82126576 0.81964461 0.81923929 0.80651309 0.80108218 0.79840723\n",
      " 0.80472979 0.79240891 0.81145767 0.81153875 0.81834764 0.82150893\n",
      " 0.81324097 0.82329223 0.84866355 0.84185466 0.8459886  0.85928221\n",
      " 0.84850153 0.86341628 0.87703407 0.87476444 0.8724138  0.86998201\n",
      " 0.88351879 0.8960829  0.90118963 0.90370243 0.92550722 0.94220528\n",
      " 0.96287526 0.95209444 0.96725237 0.96230779 0.97154847 1.\n",
      " 0.99456909 0.97762786 0.94569074 0.97568241 0.96960301 0.9809513\n",
      " 0.99521757 0.99870316 0.98070813 0.96619857 0.97154847 0.97333177\n",
      " 0.9705758  0.98549056 0.98216713 0.98305878 0.9756014  0.97519608\n",
      " 0.97122429 0.97333177 0.99789252 0.99959481 1.0019294  1.00403428]\n",
      "2 day output [[1.0058247]]\n",
      "3 day input [0.81964461 0.81923929 0.80651309 0.80108218 0.79840723 0.80472979\n",
      " 0.79240891 0.81145767 0.81153875 0.81834764 0.82150893 0.81324097\n",
      " 0.82329223 0.84866355 0.84185466 0.8459886  0.85928221 0.84850153\n",
      " 0.86341628 0.87703407 0.87476444 0.8724138  0.86998201 0.88351879\n",
      " 0.8960829  0.90118963 0.90370243 0.92550722 0.94220528 0.96287526\n",
      " 0.95209444 0.96725237 0.96230779 0.97154847 1.         0.99456909\n",
      " 0.97762786 0.94569074 0.97568241 0.96960301 0.9809513  0.99521757\n",
      " 0.99870316 0.98070813 0.96619857 0.97154847 0.97333177 0.9705758\n",
      " 0.98549056 0.98216713 0.98305878 0.9756014  0.97519608 0.97122429\n",
      " 0.97333177 0.99789252 0.99959481 1.0019294  1.00403428 1.00582469]\n",
      "3 day output [[1.007743]]\n",
      "4 day input [0.81923929 0.80651309 0.80108218 0.79840723 0.80472979 0.79240891\n",
      " 0.81145767 0.81153875 0.81834764 0.82150893 0.81324097 0.82329223\n",
      " 0.84866355 0.84185466 0.8459886  0.85928221 0.84850153 0.86341628\n",
      " 0.87703407 0.87476444 0.8724138  0.86998201 0.88351879 0.8960829\n",
      " 0.90118963 0.90370243 0.92550722 0.94220528 0.96287526 0.95209444\n",
      " 0.96725237 0.96230779 0.97154847 1.         0.99456909 0.97762786\n",
      " 0.94569074 0.97568241 0.96960301 0.9809513  0.99521757 0.99870316\n",
      " 0.98070813 0.96619857 0.97154847 0.97333177 0.9705758  0.98549056\n",
      " 0.98216713 0.98305878 0.9756014  0.97519608 0.97122429 0.97333177\n",
      " 0.99789252 0.99959481 1.0019294  1.00403428 1.00582469 1.007743  ]\n",
      "4 day output [[1.0097699]]\n",
      "5 day input [0.80651309 0.80108218 0.79840723 0.80472979 0.79240891 0.81145767\n",
      " 0.81153875 0.81834764 0.82150893 0.81324097 0.82329223 0.84866355\n",
      " 0.84185466 0.8459886  0.85928221 0.84850153 0.86341628 0.87703407\n",
      " 0.87476444 0.8724138  0.86998201 0.88351879 0.8960829  0.90118963\n",
      " 0.90370243 0.92550722 0.94220528 0.96287526 0.95209444 0.96725237\n",
      " 0.96230779 0.97154847 1.         0.99456909 0.97762786 0.94569074\n",
      " 0.97568241 0.96960301 0.9809513  0.99521757 0.99870316 0.98070813\n",
      " 0.96619857 0.97154847 0.97333177 0.9705758  0.98549056 0.98216713\n",
      " 0.98305878 0.9756014  0.97519608 0.97122429 0.97333177 0.99789252\n",
      " 0.99959481 1.0019294  1.00403428 1.00582469 1.007743   1.00976992]\n",
      "5 day output [[1.0118142]]\n",
      "6 day input [0.80108218 0.79840723 0.80472979 0.79240891 0.81145767 0.81153875\n",
      " 0.81834764 0.82150893 0.81324097 0.82329223 0.84866355 0.84185466\n",
      " 0.8459886  0.85928221 0.84850153 0.86341628 0.87703407 0.87476444\n",
      " 0.8724138  0.86998201 0.88351879 0.8960829  0.90118963 0.90370243\n",
      " 0.92550722 0.94220528 0.96287526 0.95209444 0.96725237 0.96230779\n",
      " 0.97154847 1.         0.99456909 0.97762786 0.94569074 0.97568241\n",
      " 0.96960301 0.9809513  0.99521757 0.99870316 0.98070813 0.96619857\n",
      " 0.97154847 0.97333177 0.9705758  0.98549056 0.98216713 0.98305878\n",
      " 0.9756014  0.97519608 0.97122429 0.97333177 0.99789252 0.99959481\n",
      " 1.0019294  1.00403428 1.00582469 1.007743   1.00976992 1.01181424]\n",
      "6 day output [[1.0137904]]\n",
      "7 day input [0.79840723 0.80472979 0.79240891 0.81145767 0.81153875 0.81834764\n",
      " 0.82150893 0.81324097 0.82329223 0.84866355 0.84185466 0.8459886\n",
      " 0.85928221 0.84850153 0.86341628 0.87703407 0.87476444 0.8724138\n",
      " 0.86998201 0.88351879 0.8960829  0.90118963 0.90370243 0.92550722\n",
      " 0.94220528 0.96287526 0.95209444 0.96725237 0.96230779 0.97154847\n",
      " 1.         0.99456909 0.97762786 0.94569074 0.97568241 0.96960301\n",
      " 0.9809513  0.99521757 0.99870316 0.98070813 0.96619857 0.97154847\n",
      " 0.97333177 0.9705758  0.98549056 0.98216713 0.98305878 0.9756014\n",
      " 0.97519608 0.97122429 0.97333177 0.99789252 0.99959481 1.0019294\n",
      " 1.00403428 1.00582469 1.007743   1.00976992 1.01181424 1.01379037]\n",
      "7 day output [[1.0156496]]\n",
      "8 day input [0.80472979 0.79240891 0.81145767 0.81153875 0.81834764 0.82150893\n",
      " 0.81324097 0.82329223 0.84866355 0.84185466 0.8459886  0.85928221\n",
      " 0.84850153 0.86341628 0.87703407 0.87476444 0.8724138  0.86998201\n",
      " 0.88351879 0.8960829  0.90118963 0.90370243 0.92550722 0.94220528\n",
      " 0.96287526 0.95209444 0.96725237 0.96230779 0.97154847 1.\n",
      " 0.99456909 0.97762786 0.94569074 0.97568241 0.96960301 0.9809513\n",
      " 0.99521757 0.99870316 0.98070813 0.96619857 0.97154847 0.97333177\n",
      " 0.9705758  0.98549056 0.98216713 0.98305878 0.9756014  0.97519608\n",
      " 0.97122429 0.97333177 0.99789252 0.99959481 1.0019294  1.00403428\n",
      " 1.00582469 1.007743   1.00976992 1.01181424 1.01379037 1.01564956]\n",
      "8 day output [[1.0173784]]\n",
      "9 day input [0.79240891 0.81145767 0.81153875 0.81834764 0.82150893 0.81324097\n",
      " 0.82329223 0.84866355 0.84185466 0.8459886  0.85928221 0.84850153\n",
      " 0.86341628 0.87703407 0.87476444 0.8724138  0.86998201 0.88351879\n",
      " 0.8960829  0.90118963 0.90370243 0.92550722 0.94220528 0.96287526\n",
      " 0.95209444 0.96725237 0.96230779 0.97154847 1.         0.99456909\n",
      " 0.97762786 0.94569074 0.97568241 0.96960301 0.9809513  0.99521757\n",
      " 0.99870316 0.98070813 0.96619857 0.97154847 0.97333177 0.9705758\n",
      " 0.98549056 0.98216713 0.98305878 0.9756014  0.97519608 0.97122429\n",
      " 0.97333177 0.99789252 0.99959481 1.0019294  1.00403428 1.00582469\n",
      " 1.007743   1.00976992 1.01181424 1.01379037 1.01564956 1.01737845]\n",
      "9 day output [[1.0189848]]\n",
      "[[1.0019294023513794], [1.0040342807769775], [1.0058246850967407], [1.007743000984192], [1.0097699165344238], [1.0118142366409302], [1.0137903690338135], [1.0156495571136475], [1.0173784494400024], [1.0189847946166992]]\n"
     ]
    }
   ],
   "source": [
    "# demonstrate prediction for next 10 days\n",
    "from numpy import array\n",
    "\n",
    "lst_output=[]\n",
    "n_steps=60\n",
    "i=0\n",
    "while(i<10):\n",
    "    \n",
    "    if(len(temp_input)>60):\n",
    "        #print(temp_input)\n",
    "        x_input=np.array(temp_input[1:])\n",
    "        print(\"{} day input {}\".format(i,x_input))\n",
    "        x_input=x_input.reshape(1,-1)\n",
    "        x_input = x_input.reshape((1, n_steps, 1))\n",
    "        #print(x_input)\n",
    "        yhat = model.predict(x_input, verbose=0)\n",
    "        print(\"{} day output {}\".format(i,yhat))\n",
    "        temp_input.extend(yhat[0].tolist())\n",
    "        temp_input=temp_input[1:]\n",
    "        #print(temp_input)\n",
    "        lst_output.extend(yhat.tolist())\n",
    "        i=i+1\n",
    "    else:\n",
    "        x_input = x_input.reshape((1, n_steps,1))\n",
    "        yhat = model.predict(x_input, verbose=0)\n",
    "        print(yhat[0])\n",
    "        temp_input.extend(yhat[0].tolist())\n",
    "        print(len(temp_input))\n",
    "        lst_output.extend(yhat.tolist())\n",
    "        i=i+1\n",
    "    \n",
    "\n",
    "print(lst_output)"
   ]
  },
  {
   "cell_type": "code",
   "execution_count": 50,
   "metadata": {
    "colab": {
     "base_uri": "https://localhost:8080/"
    },
    "id": "yzMwHDvxBR2y",
    "outputId": "45d86132-ef17-42b8-d6cd-b0c7c9ba4b78"
   },
   "outputs": [
    {
     "name": "stdout",
     "output_type": "stream",
     "text": [
      "[[149.38801943]\n",
      " [149.64769301]\n",
      " [149.8685707 ]\n",
      " [150.10522853]\n",
      " [150.35528402]\n",
      " [150.60748667]\n",
      " [150.85127717]\n",
      " [151.08064055]\n",
      " [151.29392966]\n",
      " [151.49210044]]                   Open        High  ...   Adj Close    Volume\n",
      "Date                                ...                      \n",
      "2021-08-02  146.360001  146.949997  ...  145.302307  62880000\n",
      "2021-08-03  145.809998  148.039993  ...  147.139542  64786600\n",
      "2021-08-04  147.270004  147.789993  ...  146.730164  56368300\n",
      "2021-08-05  146.979996  147.839996  ...  146.839996  46397700\n",
      "2021-08-06  146.350006  147.110001  ...  146.139999  54067400\n",
      "2021-08-09  146.199997  146.699997  ...  146.089996  48908700\n",
      "2021-08-10  146.440002  147.710007  ...  145.600006  68922200\n",
      "2021-08-11  146.050003  146.720001  ...  145.860001  48422100\n",
      "2021-08-12  146.190002  149.050003  ...  148.889999  73779100\n",
      "2021-08-13  148.970001  149.440002  ...  149.100006  59318800\n",
      "\n",
      "[10 rows x 6 columns]\n"
     ]
    }
   ],
   "source": [
    "lst_output=np.array(lst_output)\n",
    "print(scaler.inverse_transform(lst_output),df4[-10:])"
   ]
  }
 ],
 "metadata": {
  "colab": {
   "collapsed_sections": [],
   "name": "Stock pred2.ipynb",
   "provenance": []
  },
  "kernelspec": {
   "display_name": "Python 3",
   "language": "python",
   "name": "python3"
  },
  "language_info": {
   "codemirror_mode": {
    "name": "ipython",
    "version": 3
   },
   "file_extension": ".py",
   "mimetype": "text/x-python",
   "name": "python",
   "nbconvert_exporter": "python",
   "pygments_lexer": "ipython3",
   "version": "3.9.5"
  }
 },
 "nbformat": 4,
 "nbformat_minor": 1
}
